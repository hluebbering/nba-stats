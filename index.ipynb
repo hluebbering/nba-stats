{
 "cells": [
  {
   "cell_type": "markdown",
   "metadata": {},
   "source": [
    "<head>\n",
    "  <link href=\"https://fonts.cdnfonts.com/css/pf-tempesta-seven\" rel=\"stylesheet\">\n",
    "  <link rel=\"stylesheet\" href=\"https://use.typekit.net/bbp6pmz.css\">\n",
    "</head>"
   ]
  },
  {
   "cell_type": "markdown",
   "metadata": {},
   "source": [
    "# NBA API Stats"
   ]
  },
  {
   "cell_type": "markdown",
   "metadata": {},
   "source": [
    "\n",
    "\n",
    "\n",
    "In the following, we want to forecast the future success of potential NBA players and their performance in the NBA draft, as well as ascertain which colleges tend to produce the most successful NBA players. We analyze and evaluate player and game statistics to ascertain patterns and trends that contribute to successful NBA transitions.\n"
   ]
  },
  {
   "cell_type": "code",
   "execution_count": 2,
   "metadata": {
    "tags": [
     "hide-code"
    ]
   },
   "outputs": [],
   "source": [
    "import pandas as pd\n",
    "import numpy as np\n",
    "\n",
    "from nba_api.stats.static import teams\n",
    "from nba_api.stats.static import players\n",
    "from nba_api.stats.endpoints import CommonTeamRoster\n",
    "from nba_api.stats.endpoints import TeamPlayerDashboard\n",
    "from nba_api.stats.endpoints import leaguedashteamstats\n",
    "\n",
    "import matplotlib\n",
    "import matplotlib.pyplot as plt\n",
    "import seaborn as sns\n",
    "import matplotlib.colors as clr\n",
    "import plotly.express as px\n",
    "import circlify\n",
    "import math\n",
    "\n",
    "import warnings\n",
    "warnings.filterwarnings('ignore')\n"
   ]
  },
  {
   "cell_type": "markdown",
   "metadata": {},
   "source": [
    "\n",
    "<div class=\"mycode\">\n",
    "\n",
    "We will primarily be using `nba_api.stats.endpoints` for each API endpoint supported by [stats.nba.com](https://stats.nba.com/). For example, we use API endpoints such as `commonplayerinfo`, `drafthistory`\n",
    "\n",
    "</div>\n"
   ]
  },
  {
   "cell_type": "markdown",
   "metadata": {},
   "source": [
    "### Getting Team and Player IDs\n",
    "\n",
    "The package also includes utilities for fetching player and team information available under `nba_api.stats.static`."
   ]
  },
  {
   "cell_type": "code",
   "execution_count": 3,
   "metadata": {},
   "outputs": [
    {
     "name": "stdout",
     "output_type": "stream",
     "text": [
      "Number of teams fetched: 30\n"
     ]
    }
   ],
   "source": [
    "# Fetch NBA teams and display logos\n",
    "nba_teams = teams.get_teams()\n",
    "print(f\"Number of teams fetched: {len(nba_teams)}\")\n",
    "nba_teams_df = pd.DataFrame(nba_teams)"
   ]
  },
  {
   "cell_type": "code",
   "execution_count": 4,
   "metadata": {},
   "outputs": [],
   "source": [
    "def generate_team_logo_url(team_id):\n",
    "    return f\"https://cdn.nba.com/logos/nba/{team_id}/primary/L/logo.svg\"\n",
    "\n",
    "def path_to_image_html(path):\n",
    "    return f'<img src=\"{path}\" width=\"50\" >'\n",
    "\n",
    "nba_teams_df['logo_url'] = nba_teams_df['id'].apply(generate_team_logo_url)"
   ]
  },
  {
   "cell_type": "code",
   "execution_count": 5,
   "metadata": {},
   "outputs": [
    {
     "data": {
      "text/html": [
       "<table border=\"1\" class=\"dataframe\">\n",
       "  <thead>\n",
       "    <tr style=\"text-align: right;\">\n",
       "      <th></th>\n",
       "      <th>id</th>\n",
       "      <th>full_name</th>\n",
       "      <th>abbreviation</th>\n",
       "      <th>nickname</th>\n",
       "      <th>city</th>\n",
       "      <th>state</th>\n",
       "      <th>year_founded</th>\n",
       "      <th>logo_url</th>\n",
       "    </tr>\n",
       "  </thead>\n",
       "  <tbody>\n",
       "    <tr>\n",
       "      <th>0</th>\n",
       "      <td>1610612737</td>\n",
       "      <td>Atlanta Hawks</td>\n",
       "      <td>ATL</td>\n",
       "      <td>Hawks</td>\n",
       "      <td>Atlanta</td>\n",
       "      <td>Georgia</td>\n",
       "      <td>1949</td>\n",
       "      <td><img src=\"https://cdn.nba.com/logos/nba/1610612737/primary/L/logo.svg\" width=\"50\" ></td>\n",
       "    </tr>\n",
       "    <tr>\n",
       "      <th>1</th>\n",
       "      <td>1610612738</td>\n",
       "      <td>Boston Celtics</td>\n",
       "      <td>BOS</td>\n",
       "      <td>Celtics</td>\n",
       "      <td>Boston</td>\n",
       "      <td>Massachusetts</td>\n",
       "      <td>1946</td>\n",
       "      <td><img src=\"https://cdn.nba.com/logos/nba/1610612738/primary/L/logo.svg\" width=\"50\" ></td>\n",
       "    </tr>\n",
       "    <tr>\n",
       "      <th>2</th>\n",
       "      <td>1610612739</td>\n",
       "      <td>Cleveland Cavaliers</td>\n",
       "      <td>CLE</td>\n",
       "      <td>Cavaliers</td>\n",
       "      <td>Cleveland</td>\n",
       "      <td>Ohio</td>\n",
       "      <td>1970</td>\n",
       "      <td><img src=\"https://cdn.nba.com/logos/nba/1610612739/primary/L/logo.svg\" width=\"50\" ></td>\n",
       "    </tr>\n",
       "    <tr>\n",
       "      <th>3</th>\n",
       "      <td>1610612740</td>\n",
       "      <td>New Orleans Pelicans</td>\n",
       "      <td>NOP</td>\n",
       "      <td>Pelicans</td>\n",
       "      <td>New Orleans</td>\n",
       "      <td>Louisiana</td>\n",
       "      <td>2002</td>\n",
       "      <td><img src=\"https://cdn.nba.com/logos/nba/1610612740/primary/L/logo.svg\" width=\"50\" ></td>\n",
       "    </tr>\n",
       "    <tr>\n",
       "      <th>4</th>\n",
       "      <td>1610612741</td>\n",
       "      <td>Chicago Bulls</td>\n",
       "      <td>CHI</td>\n",
       "      <td>Bulls</td>\n",
       "      <td>Chicago</td>\n",
       "      <td>Illinois</td>\n",
       "      <td>1966</td>\n",
       "      <td><img src=\"https://cdn.nba.com/logos/nba/1610612741/primary/L/logo.svg\" width=\"50\" ></td>\n",
       "    </tr>\n",
       "    <tr>\n",
       "      <th>5</th>\n",
       "      <td>1610612742</td>\n",
       "      <td>Dallas Mavericks</td>\n",
       "      <td>DAL</td>\n",
       "      <td>Mavericks</td>\n",
       "      <td>Dallas</td>\n",
       "      <td>Texas</td>\n",
       "      <td>1980</td>\n",
       "      <td><img src=\"https://cdn.nba.com/logos/nba/1610612742/primary/L/logo.svg\" width=\"50\" ></td>\n",
       "    </tr>\n",
       "  </tbody>\n",
       "</table>"
      ],
      "text/plain": [
       "<IPython.core.display.HTML object>"
      ]
     },
     "metadata": {},
     "output_type": "display_data"
    }
   ],
   "source": [
    "from IPython.display import display, HTML\n",
    "html_table = nba_teams_df.head(6).to_html(escape=False, formatters=dict(logo_url=path_to_image_html))\n",
    "display(HTML(html_table))"
   ]
  },
  {
   "cell_type": "markdown",
   "metadata": {},
   "source": [
    "#### Get All NBA Players "
   ]
  },
  {
   "cell_type": "code",
   "execution_count": 6,
   "metadata": {},
   "outputs": [
    {
     "name": "stdout",
     "output_type": "stream",
     "text": [
      "Number of players fetched: 5034\n",
      "Number of active players fetched: 615\n"
     ]
    }
   ],
   "source": [
    "# Fetch all NBA players\n",
    "nba_players = players.get_players()\n",
    "print(f\"Number of players fetched: {len(nba_players)}\")\n",
    "\n",
    "nba_active_players = players.get_active_players()\n",
    "print(f\"Number of active players fetched: {len(nba_active_players)}\")"
   ]
  },
  {
   "cell_type": "markdown",
   "metadata": {},
   "source": [
    "----\n",
    "\n",
    "## CommonTeamRoster"
   ]
  },
  {
   "cell_type": "code",
   "execution_count": 7,
   "metadata": {},
   "outputs": [
    {
     "ename": "ConnectionError",
     "evalue": "('Connection aborted.', RemoteDisconnected('Remote end closed connection without response'))",
     "output_type": "error",
     "traceback": [
      "\u001b[1;31m---------------------------------------------------------------------------\u001b[0m",
      "\u001b[1;31mRemoteDisconnected\u001b[0m                        Traceback (most recent call last)",
      "File \u001b[1;32mc:\\Users\\luebh\\anaconda3\\Lib\\site-packages\\urllib3\\connectionpool.py:789\u001b[0m, in \u001b[0;36mHTTPConnectionPool.urlopen\u001b[1;34m(self, method, url, body, headers, retries, redirect, assert_same_host, timeout, pool_timeout, release_conn, chunked, body_pos, preload_content, decode_content, **response_kw)\u001b[0m\n\u001b[0;32m    788\u001b[0m \u001b[38;5;66;03m# Make the request on the HTTPConnection object\u001b[39;00m\n\u001b[1;32m--> 789\u001b[0m response \u001b[38;5;241m=\u001b[39m \u001b[38;5;28mself\u001b[39m\u001b[38;5;241m.\u001b[39m_make_request(\n\u001b[0;32m    790\u001b[0m     conn,\n\u001b[0;32m    791\u001b[0m     method,\n\u001b[0;32m    792\u001b[0m     url,\n\u001b[0;32m    793\u001b[0m     timeout\u001b[38;5;241m=\u001b[39mtimeout_obj,\n\u001b[0;32m    794\u001b[0m     body\u001b[38;5;241m=\u001b[39mbody,\n\u001b[0;32m    795\u001b[0m     headers\u001b[38;5;241m=\u001b[39mheaders,\n\u001b[0;32m    796\u001b[0m     chunked\u001b[38;5;241m=\u001b[39mchunked,\n\u001b[0;32m    797\u001b[0m     retries\u001b[38;5;241m=\u001b[39mretries,\n\u001b[0;32m    798\u001b[0m     response_conn\u001b[38;5;241m=\u001b[39mresponse_conn,\n\u001b[0;32m    799\u001b[0m     preload_content\u001b[38;5;241m=\u001b[39mpreload_content,\n\u001b[0;32m    800\u001b[0m     decode_content\u001b[38;5;241m=\u001b[39mdecode_content,\n\u001b[0;32m    801\u001b[0m     \u001b[38;5;241m*\u001b[39m\u001b[38;5;241m*\u001b[39mresponse_kw,\n\u001b[0;32m    802\u001b[0m )\n\u001b[0;32m    804\u001b[0m \u001b[38;5;66;03m# Everything went great!\u001b[39;00m\n",
      "File \u001b[1;32mc:\\Users\\luebh\\anaconda3\\Lib\\site-packages\\urllib3\\connectionpool.py:536\u001b[0m, in \u001b[0;36mHTTPConnectionPool._make_request\u001b[1;34m(self, conn, method, url, body, headers, retries, timeout, chunked, response_conn, preload_content, decode_content, enforce_content_length)\u001b[0m\n\u001b[0;32m    535\u001b[0m \u001b[38;5;28;01mtry\u001b[39;00m:\n\u001b[1;32m--> 536\u001b[0m     response \u001b[38;5;241m=\u001b[39m conn\u001b[38;5;241m.\u001b[39mgetresponse()\n\u001b[0;32m    537\u001b[0m \u001b[38;5;28;01mexcept\u001b[39;00m (BaseSSLError, \u001b[38;5;167;01mOSError\u001b[39;00m) \u001b[38;5;28;01mas\u001b[39;00m e:\n",
      "File \u001b[1;32mc:\\Users\\luebh\\anaconda3\\Lib\\site-packages\\urllib3\\connection.py:464\u001b[0m, in \u001b[0;36mHTTPConnection.getresponse\u001b[1;34m(self)\u001b[0m\n\u001b[0;32m    463\u001b[0m \u001b[38;5;66;03m# Get the response from http.client.HTTPConnection\u001b[39;00m\n\u001b[1;32m--> 464\u001b[0m httplib_response \u001b[38;5;241m=\u001b[39m \u001b[38;5;28msuper\u001b[39m()\u001b[38;5;241m.\u001b[39mgetresponse()\n\u001b[0;32m    466\u001b[0m \u001b[38;5;28;01mtry\u001b[39;00m:\n",
      "File \u001b[1;32mc:\\Users\\luebh\\anaconda3\\Lib\\http\\client.py:1428\u001b[0m, in \u001b[0;36mHTTPConnection.getresponse\u001b[1;34m(self)\u001b[0m\n\u001b[0;32m   1427\u001b[0m \u001b[38;5;28;01mtry\u001b[39;00m:\n\u001b[1;32m-> 1428\u001b[0m     response\u001b[38;5;241m.\u001b[39mbegin()\n\u001b[0;32m   1429\u001b[0m \u001b[38;5;28;01mexcept\u001b[39;00m \u001b[38;5;167;01mConnectionError\u001b[39;00m:\n",
      "File \u001b[1;32mc:\\Users\\luebh\\anaconda3\\Lib\\http\\client.py:331\u001b[0m, in \u001b[0;36mHTTPResponse.begin\u001b[1;34m(self)\u001b[0m\n\u001b[0;32m    330\u001b[0m \u001b[38;5;28;01mwhile\u001b[39;00m \u001b[38;5;28;01mTrue\u001b[39;00m:\n\u001b[1;32m--> 331\u001b[0m     version, status, reason \u001b[38;5;241m=\u001b[39m \u001b[38;5;28mself\u001b[39m\u001b[38;5;241m.\u001b[39m_read_status()\n\u001b[0;32m    332\u001b[0m     \u001b[38;5;28;01mif\u001b[39;00m status \u001b[38;5;241m!=\u001b[39m CONTINUE:\n",
      "File \u001b[1;32mc:\\Users\\luebh\\anaconda3\\Lib\\http\\client.py:300\u001b[0m, in \u001b[0;36mHTTPResponse._read_status\u001b[1;34m(self)\u001b[0m\n\u001b[0;32m    297\u001b[0m \u001b[38;5;28;01mif\u001b[39;00m \u001b[38;5;129;01mnot\u001b[39;00m line:\n\u001b[0;32m    298\u001b[0m     \u001b[38;5;66;03m# Presumably, the server closed the connection before\u001b[39;00m\n\u001b[0;32m    299\u001b[0m     \u001b[38;5;66;03m# sending a valid response.\u001b[39;00m\n\u001b[1;32m--> 300\u001b[0m     \u001b[38;5;28;01mraise\u001b[39;00m RemoteDisconnected(\u001b[38;5;124m\"\u001b[39m\u001b[38;5;124mRemote end closed connection without\u001b[39m\u001b[38;5;124m\"\u001b[39m\n\u001b[0;32m    301\u001b[0m                              \u001b[38;5;124m\"\u001b[39m\u001b[38;5;124m response\u001b[39m\u001b[38;5;124m\"\u001b[39m)\n\u001b[0;32m    302\u001b[0m \u001b[38;5;28;01mtry\u001b[39;00m:\n",
      "\u001b[1;31mRemoteDisconnected\u001b[0m: Remote end closed connection without response",
      "\nDuring handling of the above exception, another exception occurred:\n",
      "\u001b[1;31mProtocolError\u001b[0m                             Traceback (most recent call last)",
      "File \u001b[1;32mc:\\Users\\luebh\\anaconda3\\Lib\\site-packages\\requests\\adapters.py:667\u001b[0m, in \u001b[0;36mHTTPAdapter.send\u001b[1;34m(self, request, stream, timeout, verify, cert, proxies)\u001b[0m\n\u001b[0;32m    666\u001b[0m \u001b[38;5;28;01mtry\u001b[39;00m:\n\u001b[1;32m--> 667\u001b[0m     resp \u001b[38;5;241m=\u001b[39m conn\u001b[38;5;241m.\u001b[39murlopen(\n\u001b[0;32m    668\u001b[0m         method\u001b[38;5;241m=\u001b[39mrequest\u001b[38;5;241m.\u001b[39mmethod,\n\u001b[0;32m    669\u001b[0m         url\u001b[38;5;241m=\u001b[39murl,\n\u001b[0;32m    670\u001b[0m         body\u001b[38;5;241m=\u001b[39mrequest\u001b[38;5;241m.\u001b[39mbody,\n\u001b[0;32m    671\u001b[0m         headers\u001b[38;5;241m=\u001b[39mrequest\u001b[38;5;241m.\u001b[39mheaders,\n\u001b[0;32m    672\u001b[0m         redirect\u001b[38;5;241m=\u001b[39m\u001b[38;5;28;01mFalse\u001b[39;00m,\n\u001b[0;32m    673\u001b[0m         assert_same_host\u001b[38;5;241m=\u001b[39m\u001b[38;5;28;01mFalse\u001b[39;00m,\n\u001b[0;32m    674\u001b[0m         preload_content\u001b[38;5;241m=\u001b[39m\u001b[38;5;28;01mFalse\u001b[39;00m,\n\u001b[0;32m    675\u001b[0m         decode_content\u001b[38;5;241m=\u001b[39m\u001b[38;5;28;01mFalse\u001b[39;00m,\n\u001b[0;32m    676\u001b[0m         retries\u001b[38;5;241m=\u001b[39m\u001b[38;5;28mself\u001b[39m\u001b[38;5;241m.\u001b[39mmax_retries,\n\u001b[0;32m    677\u001b[0m         timeout\u001b[38;5;241m=\u001b[39mtimeout,\n\u001b[0;32m    678\u001b[0m         chunked\u001b[38;5;241m=\u001b[39mchunked,\n\u001b[0;32m    679\u001b[0m     )\n\u001b[0;32m    681\u001b[0m \u001b[38;5;28;01mexcept\u001b[39;00m (ProtocolError, \u001b[38;5;167;01mOSError\u001b[39;00m) \u001b[38;5;28;01mas\u001b[39;00m err:\n",
      "File \u001b[1;32mc:\\Users\\luebh\\anaconda3\\Lib\\site-packages\\urllib3\\connectionpool.py:843\u001b[0m, in \u001b[0;36mHTTPConnectionPool.urlopen\u001b[1;34m(self, method, url, body, headers, retries, redirect, assert_same_host, timeout, pool_timeout, release_conn, chunked, body_pos, preload_content, decode_content, **response_kw)\u001b[0m\n\u001b[0;32m    841\u001b[0m     new_e \u001b[38;5;241m=\u001b[39m ProtocolError(\u001b[38;5;124m\"\u001b[39m\u001b[38;5;124mConnection aborted.\u001b[39m\u001b[38;5;124m\"\u001b[39m, new_e)\n\u001b[1;32m--> 843\u001b[0m retries \u001b[38;5;241m=\u001b[39m retries\u001b[38;5;241m.\u001b[39mincrement(\n\u001b[0;32m    844\u001b[0m     method, url, error\u001b[38;5;241m=\u001b[39mnew_e, _pool\u001b[38;5;241m=\u001b[39m\u001b[38;5;28mself\u001b[39m, _stacktrace\u001b[38;5;241m=\u001b[39msys\u001b[38;5;241m.\u001b[39mexc_info()[\u001b[38;5;241m2\u001b[39m]\n\u001b[0;32m    845\u001b[0m )\n\u001b[0;32m    846\u001b[0m retries\u001b[38;5;241m.\u001b[39msleep()\n",
      "File \u001b[1;32mc:\\Users\\luebh\\anaconda3\\Lib\\site-packages\\urllib3\\util\\retry.py:474\u001b[0m, in \u001b[0;36mRetry.increment\u001b[1;34m(self, method, url, response, error, _pool, _stacktrace)\u001b[0m\n\u001b[0;32m    473\u001b[0m \u001b[38;5;28;01mif\u001b[39;00m read \u001b[38;5;129;01mis\u001b[39;00m \u001b[38;5;28;01mFalse\u001b[39;00m \u001b[38;5;129;01mor\u001b[39;00m method \u001b[38;5;129;01mis\u001b[39;00m \u001b[38;5;28;01mNone\u001b[39;00m \u001b[38;5;129;01mor\u001b[39;00m \u001b[38;5;129;01mnot\u001b[39;00m \u001b[38;5;28mself\u001b[39m\u001b[38;5;241m.\u001b[39m_is_method_retryable(method):\n\u001b[1;32m--> 474\u001b[0m     \u001b[38;5;28;01mraise\u001b[39;00m reraise(\u001b[38;5;28mtype\u001b[39m(error), error, _stacktrace)\n\u001b[0;32m    475\u001b[0m \u001b[38;5;28;01melif\u001b[39;00m read \u001b[38;5;129;01mis\u001b[39;00m \u001b[38;5;129;01mnot\u001b[39;00m \u001b[38;5;28;01mNone\u001b[39;00m:\n",
      "File \u001b[1;32mc:\\Users\\luebh\\anaconda3\\Lib\\site-packages\\urllib3\\util\\util.py:38\u001b[0m, in \u001b[0;36mreraise\u001b[1;34m(tp, value, tb)\u001b[0m\n\u001b[0;32m     37\u001b[0m \u001b[38;5;28;01mif\u001b[39;00m value\u001b[38;5;241m.\u001b[39m__traceback__ \u001b[38;5;129;01mis\u001b[39;00m \u001b[38;5;129;01mnot\u001b[39;00m tb:\n\u001b[1;32m---> 38\u001b[0m     \u001b[38;5;28;01mraise\u001b[39;00m value\u001b[38;5;241m.\u001b[39mwith_traceback(tb)\n\u001b[0;32m     39\u001b[0m \u001b[38;5;28;01mraise\u001b[39;00m value\n",
      "File \u001b[1;32mc:\\Users\\luebh\\anaconda3\\Lib\\site-packages\\urllib3\\connectionpool.py:789\u001b[0m, in \u001b[0;36mHTTPConnectionPool.urlopen\u001b[1;34m(self, method, url, body, headers, retries, redirect, assert_same_host, timeout, pool_timeout, release_conn, chunked, body_pos, preload_content, decode_content, **response_kw)\u001b[0m\n\u001b[0;32m    788\u001b[0m \u001b[38;5;66;03m# Make the request on the HTTPConnection object\u001b[39;00m\n\u001b[1;32m--> 789\u001b[0m response \u001b[38;5;241m=\u001b[39m \u001b[38;5;28mself\u001b[39m\u001b[38;5;241m.\u001b[39m_make_request(\n\u001b[0;32m    790\u001b[0m     conn,\n\u001b[0;32m    791\u001b[0m     method,\n\u001b[0;32m    792\u001b[0m     url,\n\u001b[0;32m    793\u001b[0m     timeout\u001b[38;5;241m=\u001b[39mtimeout_obj,\n\u001b[0;32m    794\u001b[0m     body\u001b[38;5;241m=\u001b[39mbody,\n\u001b[0;32m    795\u001b[0m     headers\u001b[38;5;241m=\u001b[39mheaders,\n\u001b[0;32m    796\u001b[0m     chunked\u001b[38;5;241m=\u001b[39mchunked,\n\u001b[0;32m    797\u001b[0m     retries\u001b[38;5;241m=\u001b[39mretries,\n\u001b[0;32m    798\u001b[0m     response_conn\u001b[38;5;241m=\u001b[39mresponse_conn,\n\u001b[0;32m    799\u001b[0m     preload_content\u001b[38;5;241m=\u001b[39mpreload_content,\n\u001b[0;32m    800\u001b[0m     decode_content\u001b[38;5;241m=\u001b[39mdecode_content,\n\u001b[0;32m    801\u001b[0m     \u001b[38;5;241m*\u001b[39m\u001b[38;5;241m*\u001b[39mresponse_kw,\n\u001b[0;32m    802\u001b[0m )\n\u001b[0;32m    804\u001b[0m \u001b[38;5;66;03m# Everything went great!\u001b[39;00m\n",
      "File \u001b[1;32mc:\\Users\\luebh\\anaconda3\\Lib\\site-packages\\urllib3\\connectionpool.py:536\u001b[0m, in \u001b[0;36mHTTPConnectionPool._make_request\u001b[1;34m(self, conn, method, url, body, headers, retries, timeout, chunked, response_conn, preload_content, decode_content, enforce_content_length)\u001b[0m\n\u001b[0;32m    535\u001b[0m \u001b[38;5;28;01mtry\u001b[39;00m:\n\u001b[1;32m--> 536\u001b[0m     response \u001b[38;5;241m=\u001b[39m conn\u001b[38;5;241m.\u001b[39mgetresponse()\n\u001b[0;32m    537\u001b[0m \u001b[38;5;28;01mexcept\u001b[39;00m (BaseSSLError, \u001b[38;5;167;01mOSError\u001b[39;00m) \u001b[38;5;28;01mas\u001b[39;00m e:\n",
      "File \u001b[1;32mc:\\Users\\luebh\\anaconda3\\Lib\\site-packages\\urllib3\\connection.py:464\u001b[0m, in \u001b[0;36mHTTPConnection.getresponse\u001b[1;34m(self)\u001b[0m\n\u001b[0;32m    463\u001b[0m \u001b[38;5;66;03m# Get the response from http.client.HTTPConnection\u001b[39;00m\n\u001b[1;32m--> 464\u001b[0m httplib_response \u001b[38;5;241m=\u001b[39m \u001b[38;5;28msuper\u001b[39m()\u001b[38;5;241m.\u001b[39mgetresponse()\n\u001b[0;32m    466\u001b[0m \u001b[38;5;28;01mtry\u001b[39;00m:\n",
      "File \u001b[1;32mc:\\Users\\luebh\\anaconda3\\Lib\\http\\client.py:1428\u001b[0m, in \u001b[0;36mHTTPConnection.getresponse\u001b[1;34m(self)\u001b[0m\n\u001b[0;32m   1427\u001b[0m \u001b[38;5;28;01mtry\u001b[39;00m:\n\u001b[1;32m-> 1428\u001b[0m     response\u001b[38;5;241m.\u001b[39mbegin()\n\u001b[0;32m   1429\u001b[0m \u001b[38;5;28;01mexcept\u001b[39;00m \u001b[38;5;167;01mConnectionError\u001b[39;00m:\n",
      "File \u001b[1;32mc:\\Users\\luebh\\anaconda3\\Lib\\http\\client.py:331\u001b[0m, in \u001b[0;36mHTTPResponse.begin\u001b[1;34m(self)\u001b[0m\n\u001b[0;32m    330\u001b[0m \u001b[38;5;28;01mwhile\u001b[39;00m \u001b[38;5;28;01mTrue\u001b[39;00m:\n\u001b[1;32m--> 331\u001b[0m     version, status, reason \u001b[38;5;241m=\u001b[39m \u001b[38;5;28mself\u001b[39m\u001b[38;5;241m.\u001b[39m_read_status()\n\u001b[0;32m    332\u001b[0m     \u001b[38;5;28;01mif\u001b[39;00m status \u001b[38;5;241m!=\u001b[39m CONTINUE:\n",
      "File \u001b[1;32mc:\\Users\\luebh\\anaconda3\\Lib\\http\\client.py:300\u001b[0m, in \u001b[0;36mHTTPResponse._read_status\u001b[1;34m(self)\u001b[0m\n\u001b[0;32m    297\u001b[0m \u001b[38;5;28;01mif\u001b[39;00m \u001b[38;5;129;01mnot\u001b[39;00m line:\n\u001b[0;32m    298\u001b[0m     \u001b[38;5;66;03m# Presumably, the server closed the connection before\u001b[39;00m\n\u001b[0;32m    299\u001b[0m     \u001b[38;5;66;03m# sending a valid response.\u001b[39;00m\n\u001b[1;32m--> 300\u001b[0m     \u001b[38;5;28;01mraise\u001b[39;00m RemoteDisconnected(\u001b[38;5;124m\"\u001b[39m\u001b[38;5;124mRemote end closed connection without\u001b[39m\u001b[38;5;124m\"\u001b[39m\n\u001b[0;32m    301\u001b[0m                              \u001b[38;5;124m\"\u001b[39m\u001b[38;5;124m response\u001b[39m\u001b[38;5;124m\"\u001b[39m)\n\u001b[0;32m    302\u001b[0m \u001b[38;5;28;01mtry\u001b[39;00m:\n",
      "\u001b[1;31mProtocolError\u001b[0m: ('Connection aborted.', RemoteDisconnected('Remote end closed connection without response'))",
      "\nDuring handling of the above exception, another exception occurred:\n",
      "\u001b[1;31mConnectionError\u001b[0m                           Traceback (most recent call last)",
      "Cell \u001b[1;32mIn[7], line 6\u001b[0m\n\u001b[0;32m      3\u001b[0m all_players_info \u001b[38;5;241m=\u001b[39m []\n\u001b[0;32m      5\u001b[0m \u001b[38;5;28;01mfor\u001b[39;00m team_id \u001b[38;5;129;01min\u001b[39;00m all_nba_teams:\n\u001b[1;32m----> 6\u001b[0m     common_team_roster \u001b[38;5;241m=\u001b[39m CommonTeamRoster(\n\u001b[0;32m      7\u001b[0m         team_id\u001b[38;5;241m=\u001b[39mteam_id,\n\u001b[0;32m      8\u001b[0m         league_id_nullable\u001b[38;5;241m=\u001b[39m\u001b[38;5;124m'\u001b[39m\u001b[38;5;124m00\u001b[39m\u001b[38;5;124m'\u001b[39m,\n\u001b[0;32m      9\u001b[0m         season\u001b[38;5;241m=\u001b[39m\u001b[38;5;124m'\u001b[39m\u001b[38;5;124m2023-24\u001b[39m\u001b[38;5;124m'\u001b[39m,\n\u001b[0;32m     10\u001b[0m         timeout\u001b[38;5;241m=\u001b[39m\u001b[38;5;241m200\u001b[39m\n\u001b[0;32m     11\u001b[0m     )\n\u001b[0;32m     12\u001b[0m     team_roster_df \u001b[38;5;241m=\u001b[39m common_team_roster\u001b[38;5;241m.\u001b[39mget_data_frames()[\u001b[38;5;241m0\u001b[39m]\n\u001b[0;32m     13\u001b[0m     all_players_info\u001b[38;5;241m.\u001b[39mappend(team_roster_df)\n",
      "File \u001b[1;32mc:\\Users\\luebh\\anaconda3\\Lib\\site-packages\\nba_api\\stats\\endpoints\\commonteamroster.py:64\u001b[0m, in \u001b[0;36mCommonTeamRoster.__init__\u001b[1;34m(self, team_id, season, league_id_nullable, proxy, headers, timeout, get_request)\u001b[0m\n\u001b[0;32m     58\u001b[0m \u001b[38;5;28mself\u001b[39m\u001b[38;5;241m.\u001b[39mparameters \u001b[38;5;241m=\u001b[39m {\n\u001b[0;32m     59\u001b[0m     \u001b[38;5;124m\"\u001b[39m\u001b[38;5;124mTeamID\u001b[39m\u001b[38;5;124m\"\u001b[39m: team_id,\n\u001b[0;32m     60\u001b[0m     \u001b[38;5;124m\"\u001b[39m\u001b[38;5;124mSeason\u001b[39m\u001b[38;5;124m\"\u001b[39m: season,\n\u001b[0;32m     61\u001b[0m     \u001b[38;5;124m\"\u001b[39m\u001b[38;5;124mLeagueID\u001b[39m\u001b[38;5;124m\"\u001b[39m: league_id_nullable,\n\u001b[0;32m     62\u001b[0m }\n\u001b[0;32m     63\u001b[0m \u001b[38;5;28;01mif\u001b[39;00m get_request:\n\u001b[1;32m---> 64\u001b[0m     \u001b[38;5;28mself\u001b[39m\u001b[38;5;241m.\u001b[39mget_request()\n",
      "File \u001b[1;32mc:\\Users\\luebh\\anaconda3\\Lib\\site-packages\\nba_api\\stats\\endpoints\\commonteamroster.py:67\u001b[0m, in \u001b[0;36mCommonTeamRoster.get_request\u001b[1;34m(self)\u001b[0m\n\u001b[0;32m     66\u001b[0m \u001b[38;5;28;01mdef\u001b[39;00m \u001b[38;5;21mget_request\u001b[39m(\u001b[38;5;28mself\u001b[39m):\n\u001b[1;32m---> 67\u001b[0m     \u001b[38;5;28mself\u001b[39m\u001b[38;5;241m.\u001b[39mnba_response \u001b[38;5;241m=\u001b[39m NBAStatsHTTP()\u001b[38;5;241m.\u001b[39msend_api_request(\n\u001b[0;32m     68\u001b[0m         endpoint\u001b[38;5;241m=\u001b[39m\u001b[38;5;28mself\u001b[39m\u001b[38;5;241m.\u001b[39mendpoint,\n\u001b[0;32m     69\u001b[0m         parameters\u001b[38;5;241m=\u001b[39m\u001b[38;5;28mself\u001b[39m\u001b[38;5;241m.\u001b[39mparameters,\n\u001b[0;32m     70\u001b[0m         proxy\u001b[38;5;241m=\u001b[39m\u001b[38;5;28mself\u001b[39m\u001b[38;5;241m.\u001b[39mproxy,\n\u001b[0;32m     71\u001b[0m         headers\u001b[38;5;241m=\u001b[39m\u001b[38;5;28mself\u001b[39m\u001b[38;5;241m.\u001b[39mheaders,\n\u001b[0;32m     72\u001b[0m         timeout\u001b[38;5;241m=\u001b[39m\u001b[38;5;28mself\u001b[39m\u001b[38;5;241m.\u001b[39mtimeout,\n\u001b[0;32m     73\u001b[0m     )\n\u001b[0;32m     74\u001b[0m     \u001b[38;5;28mself\u001b[39m\u001b[38;5;241m.\u001b[39mload_response()\n",
      "File \u001b[1;32mc:\\Users\\luebh\\anaconda3\\Lib\\site-packages\\nba_api\\library\\http.py:146\u001b[0m, in \u001b[0;36mNBAHTTP.send_api_request\u001b[1;34m(self, endpoint, parameters, referer, proxy, headers, timeout, raise_exception_on_error)\u001b[0m\n\u001b[0;32m    143\u001b[0m         \u001b[38;5;28mprint\u001b[39m(\u001b[38;5;124m\"\u001b[39m\u001b[38;5;124mloading from file...\u001b[39m\u001b[38;5;124m\"\u001b[39m)\n\u001b[0;32m    145\u001b[0m \u001b[38;5;28;01mif\u001b[39;00m \u001b[38;5;129;01mnot\u001b[39;00m contents:\n\u001b[1;32m--> 146\u001b[0m     response \u001b[38;5;241m=\u001b[39m requests\u001b[38;5;241m.\u001b[39mget(\n\u001b[0;32m    147\u001b[0m         url\u001b[38;5;241m=\u001b[39mbase_url,\n\u001b[0;32m    148\u001b[0m         params\u001b[38;5;241m=\u001b[39mparameters,\n\u001b[0;32m    149\u001b[0m         headers\u001b[38;5;241m=\u001b[39mrequest_headers,\n\u001b[0;32m    150\u001b[0m         proxies\u001b[38;5;241m=\u001b[39mproxies,\n\u001b[0;32m    151\u001b[0m         timeout\u001b[38;5;241m=\u001b[39mtimeout,\n\u001b[0;32m    152\u001b[0m     )\n\u001b[0;32m    153\u001b[0m     url \u001b[38;5;241m=\u001b[39m response\u001b[38;5;241m.\u001b[39murl\n\u001b[0;32m    154\u001b[0m     status_code \u001b[38;5;241m=\u001b[39m response\u001b[38;5;241m.\u001b[39mstatus_code\n",
      "File \u001b[1;32mc:\\Users\\luebh\\anaconda3\\Lib\\site-packages\\requests\\api.py:73\u001b[0m, in \u001b[0;36mget\u001b[1;34m(url, params, **kwargs)\u001b[0m\n\u001b[0;32m     62\u001b[0m \u001b[38;5;28;01mdef\u001b[39;00m \u001b[38;5;21mget\u001b[39m(url, params\u001b[38;5;241m=\u001b[39m\u001b[38;5;28;01mNone\u001b[39;00m, \u001b[38;5;241m*\u001b[39m\u001b[38;5;241m*\u001b[39mkwargs):\n\u001b[0;32m     63\u001b[0m \u001b[38;5;250m    \u001b[39m\u001b[38;5;124mr\u001b[39m\u001b[38;5;124;03m\"\"\"Sends a GET request.\u001b[39;00m\n\u001b[0;32m     64\u001b[0m \n\u001b[0;32m     65\u001b[0m \u001b[38;5;124;03m    :param url: URL for the new :class:`Request` object.\u001b[39;00m\n\u001b[1;32m   (...)\u001b[0m\n\u001b[0;32m     70\u001b[0m \u001b[38;5;124;03m    :rtype: requests.Response\u001b[39;00m\n\u001b[0;32m     71\u001b[0m \u001b[38;5;124;03m    \"\"\"\u001b[39;00m\n\u001b[1;32m---> 73\u001b[0m     \u001b[38;5;28;01mreturn\u001b[39;00m request(\u001b[38;5;124m\"\u001b[39m\u001b[38;5;124mget\u001b[39m\u001b[38;5;124m\"\u001b[39m, url, params\u001b[38;5;241m=\u001b[39mparams, \u001b[38;5;241m*\u001b[39m\u001b[38;5;241m*\u001b[39mkwargs)\n",
      "File \u001b[1;32mc:\\Users\\luebh\\anaconda3\\Lib\\site-packages\\requests\\api.py:59\u001b[0m, in \u001b[0;36mrequest\u001b[1;34m(method, url, **kwargs)\u001b[0m\n\u001b[0;32m     55\u001b[0m \u001b[38;5;66;03m# By using the 'with' statement we are sure the session is closed, thus we\u001b[39;00m\n\u001b[0;32m     56\u001b[0m \u001b[38;5;66;03m# avoid leaving sockets open which can trigger a ResourceWarning in some\u001b[39;00m\n\u001b[0;32m     57\u001b[0m \u001b[38;5;66;03m# cases, and look like a memory leak in others.\u001b[39;00m\n\u001b[0;32m     58\u001b[0m \u001b[38;5;28;01mwith\u001b[39;00m sessions\u001b[38;5;241m.\u001b[39mSession() \u001b[38;5;28;01mas\u001b[39;00m session:\n\u001b[1;32m---> 59\u001b[0m     \u001b[38;5;28;01mreturn\u001b[39;00m session\u001b[38;5;241m.\u001b[39mrequest(method\u001b[38;5;241m=\u001b[39mmethod, url\u001b[38;5;241m=\u001b[39murl, \u001b[38;5;241m*\u001b[39m\u001b[38;5;241m*\u001b[39mkwargs)\n",
      "File \u001b[1;32mc:\\Users\\luebh\\anaconda3\\Lib\\site-packages\\requests\\sessions.py:589\u001b[0m, in \u001b[0;36mSession.request\u001b[1;34m(self, method, url, params, data, headers, cookies, files, auth, timeout, allow_redirects, proxies, hooks, stream, verify, cert, json)\u001b[0m\n\u001b[0;32m    584\u001b[0m send_kwargs \u001b[38;5;241m=\u001b[39m {\n\u001b[0;32m    585\u001b[0m     \u001b[38;5;124m\"\u001b[39m\u001b[38;5;124mtimeout\u001b[39m\u001b[38;5;124m\"\u001b[39m: timeout,\n\u001b[0;32m    586\u001b[0m     \u001b[38;5;124m\"\u001b[39m\u001b[38;5;124mallow_redirects\u001b[39m\u001b[38;5;124m\"\u001b[39m: allow_redirects,\n\u001b[0;32m    587\u001b[0m }\n\u001b[0;32m    588\u001b[0m send_kwargs\u001b[38;5;241m.\u001b[39mupdate(settings)\n\u001b[1;32m--> 589\u001b[0m resp \u001b[38;5;241m=\u001b[39m \u001b[38;5;28mself\u001b[39m\u001b[38;5;241m.\u001b[39msend(prep, \u001b[38;5;241m*\u001b[39m\u001b[38;5;241m*\u001b[39msend_kwargs)\n\u001b[0;32m    591\u001b[0m \u001b[38;5;28;01mreturn\u001b[39;00m resp\n",
      "File \u001b[1;32mc:\\Users\\luebh\\anaconda3\\Lib\\site-packages\\requests\\sessions.py:703\u001b[0m, in \u001b[0;36mSession.send\u001b[1;34m(self, request, **kwargs)\u001b[0m\n\u001b[0;32m    700\u001b[0m start \u001b[38;5;241m=\u001b[39m preferred_clock()\n\u001b[0;32m    702\u001b[0m \u001b[38;5;66;03m# Send the request\u001b[39;00m\n\u001b[1;32m--> 703\u001b[0m r \u001b[38;5;241m=\u001b[39m adapter\u001b[38;5;241m.\u001b[39msend(request, \u001b[38;5;241m*\u001b[39m\u001b[38;5;241m*\u001b[39mkwargs)\n\u001b[0;32m    705\u001b[0m \u001b[38;5;66;03m# Total elapsed time of the request (approximately)\u001b[39;00m\n\u001b[0;32m    706\u001b[0m elapsed \u001b[38;5;241m=\u001b[39m preferred_clock() \u001b[38;5;241m-\u001b[39m start\n",
      "File \u001b[1;32mc:\\Users\\luebh\\anaconda3\\Lib\\site-packages\\requests\\adapters.py:682\u001b[0m, in \u001b[0;36mHTTPAdapter.send\u001b[1;34m(self, request, stream, timeout, verify, cert, proxies)\u001b[0m\n\u001b[0;32m    667\u001b[0m     resp \u001b[38;5;241m=\u001b[39m conn\u001b[38;5;241m.\u001b[39murlopen(\n\u001b[0;32m    668\u001b[0m         method\u001b[38;5;241m=\u001b[39mrequest\u001b[38;5;241m.\u001b[39mmethod,\n\u001b[0;32m    669\u001b[0m         url\u001b[38;5;241m=\u001b[39murl,\n\u001b[1;32m   (...)\u001b[0m\n\u001b[0;32m    678\u001b[0m         chunked\u001b[38;5;241m=\u001b[39mchunked,\n\u001b[0;32m    679\u001b[0m     )\n\u001b[0;32m    681\u001b[0m \u001b[38;5;28;01mexcept\u001b[39;00m (ProtocolError, \u001b[38;5;167;01mOSError\u001b[39;00m) \u001b[38;5;28;01mas\u001b[39;00m err:\n\u001b[1;32m--> 682\u001b[0m     \u001b[38;5;28;01mraise\u001b[39;00m \u001b[38;5;167;01mConnectionError\u001b[39;00m(err, request\u001b[38;5;241m=\u001b[39mrequest)\n\u001b[0;32m    684\u001b[0m \u001b[38;5;28;01mexcept\u001b[39;00m MaxRetryError \u001b[38;5;28;01mas\u001b[39;00m e:\n\u001b[0;32m    685\u001b[0m     \u001b[38;5;28;01mif\u001b[39;00m \u001b[38;5;28misinstance\u001b[39m(e\u001b[38;5;241m.\u001b[39mreason, ConnectTimeoutError):\n\u001b[0;32m    686\u001b[0m         \u001b[38;5;66;03m# TODO: Remove this in 3.0.0: see #2811\u001b[39;00m\n",
      "\u001b[1;31mConnectionError\u001b[0m: ('Connection aborted.', RemoteDisconnected('Remote end closed connection without response'))"
     ]
    }
   ],
   "source": [
    "# Fetch team rosters\n",
    "all_nba_teams = [team[\"id\"] for team in nba_teams]\n",
    "all_players_info = []\n",
    "\n",
    "for team_id in all_nba_teams:\n",
    "    common_team_roster = CommonTeamRoster(\n",
    "        team_id=team_id,\n",
    "        league_id_nullable='00',\n",
    "        season='2023-24',\n",
    "        timeout=200\n",
    "    )\n",
    "    team_roster_df = common_team_roster.get_data_frames()[0]\n",
    "    all_players_info.append(team_roster_df)\n",
    "\n",
    "all_players_info_df = pd.concat(all_players_info, ignore_index=True)\n",
    "# all_players_info_df.to_csv(\"data/nba_players.csv\",index=False)"
   ]
  },
  {
   "cell_type": "code",
   "execution_count": null,
   "metadata": {
    "tags": [
     "hide-code"
    ]
   },
   "outputs": [
    {
     "data": {
      "text/html": [
       "<div>\n",
       "<style scoped>\n",
       "    .dataframe tbody tr th:only-of-type {\n",
       "        vertical-align: middle;\n",
       "    }\n",
       "\n",
       "    .dataframe tbody tr th {\n",
       "        vertical-align: top;\n",
       "    }\n",
       "\n",
       "    .dataframe thead th {\n",
       "        text-align: right;\n",
       "    }\n",
       "</style>\n",
       "<table border=\"1\" class=\"dataframe\">\n",
       "  <thead>\n",
       "    <tr style=\"text-align: right;\">\n",
       "      <th></th>\n",
       "      <th>TeamID</th>\n",
       "      <th>SEASON</th>\n",
       "      <th>LeagueID</th>\n",
       "      <th>PLAYER</th>\n",
       "      <th>NICKNAME</th>\n",
       "      <th>PLAYER_SLUG</th>\n",
       "      <th>NUM</th>\n",
       "      <th>POSITION</th>\n",
       "      <th>HEIGHT</th>\n",
       "      <th>WEIGHT</th>\n",
       "      <th>BIRTH_DATE</th>\n",
       "      <th>AGE</th>\n",
       "      <th>EXP</th>\n",
       "      <th>SCHOOL</th>\n",
       "      <th>PLAYER_ID</th>\n",
       "      <th>HOW_ACQUIRED</th>\n",
       "    </tr>\n",
       "  </thead>\n",
       "  <tbody>\n",
       "    <tr>\n",
       "      <th>0</th>\n",
       "      <td>1610612737</td>\n",
       "      <td>2023</td>\n",
       "      <td>00</td>\n",
       "      <td>Jalen Johnson</td>\n",
       "      <td>Jalen</td>\n",
       "      <td>jalen-johnson</td>\n",
       "      <td>1</td>\n",
       "      <td>F</td>\n",
       "      <td>6-8</td>\n",
       "      <td>219</td>\n",
       "      <td>DEC 18, 2001</td>\n",
       "      <td>22.0</td>\n",
       "      <td>2</td>\n",
       "      <td>Duke</td>\n",
       "      <td>1630552</td>\n",
       "      <td>#20 Pick in 2021 Draft</td>\n",
       "    </tr>\n",
       "    <tr>\n",
       "      <th>1</th>\n",
       "      <td>1610612737</td>\n",
       "      <td>2023</td>\n",
       "      <td>00</td>\n",
       "      <td>Trent Forrest</td>\n",
       "      <td>Trent</td>\n",
       "      <td>trent-forrest</td>\n",
       "      <td>2</td>\n",
       "      <td>G</td>\n",
       "      <td>6-4</td>\n",
       "      <td>210</td>\n",
       "      <td>JUN 12, 1998</td>\n",
       "      <td>26.0</td>\n",
       "      <td>3</td>\n",
       "      <td>Florida State</td>\n",
       "      <td>1630235</td>\n",
       "      <td>None</td>\n",
       "    </tr>\n",
       "    <tr>\n",
       "      <th>2</th>\n",
       "      <td>1610612737</td>\n",
       "      <td>2023</td>\n",
       "      <td>00</td>\n",
       "      <td>Seth Lundy</td>\n",
       "      <td>Seth</td>\n",
       "      <td>seth-lundy</td>\n",
       "      <td>3</td>\n",
       "      <td>G-F</td>\n",
       "      <td>6-4</td>\n",
       "      <td>220</td>\n",
       "      <td>APR 02, 2000</td>\n",
       "      <td>24.0</td>\n",
       "      <td>R</td>\n",
       "      <td>Penn State</td>\n",
       "      <td>1641754</td>\n",
       "      <td>#46 Pick in 2023 Draft</td>\n",
       "    </tr>\n",
       "    <tr>\n",
       "      <th>3</th>\n",
       "      <td>1610612737</td>\n",
       "      <td>2023</td>\n",
       "      <td>00</td>\n",
       "      <td>Kobe Bufkin</td>\n",
       "      <td>Kobe</td>\n",
       "      <td>kobe-bufkin</td>\n",
       "      <td>4</td>\n",
       "      <td>G</td>\n",
       "      <td>6-5</td>\n",
       "      <td>195</td>\n",
       "      <td>SEP 21, 2003</td>\n",
       "      <td>20.0</td>\n",
       "      <td>R</td>\n",
       "      <td>Michigan</td>\n",
       "      <td>1641723</td>\n",
       "      <td>#15 Pick in 2023 Draft</td>\n",
       "    </tr>\n",
       "    <tr>\n",
       "      <th>4</th>\n",
       "      <td>1610612737</td>\n",
       "      <td>2023</td>\n",
       "      <td>00</td>\n",
       "      <td>Dejounte Murray</td>\n",
       "      <td>Dejounte</td>\n",
       "      <td>dejounte-murray</td>\n",
       "      <td>5</td>\n",
       "      <td>G</td>\n",
       "      <td>6-5</td>\n",
       "      <td>180</td>\n",
       "      <td>SEP 19, 1996</td>\n",
       "      <td>27.0</td>\n",
       "      <td>6</td>\n",
       "      <td>Washington</td>\n",
       "      <td>1627749</td>\n",
       "      <td>None</td>\n",
       "    </tr>\n",
       "  </tbody>\n",
       "</table>\n",
       "</div>"
      ],
      "text/plain": [
       "       TeamID SEASON LeagueID           PLAYER  NICKNAME      PLAYER_SLUG NUM  \\\n",
       "0  1610612737   2023       00    Jalen Johnson     Jalen    jalen-johnson   1   \n",
       "1  1610612737   2023       00    Trent Forrest     Trent    trent-forrest   2   \n",
       "2  1610612737   2023       00       Seth Lundy      Seth       seth-lundy   3   \n",
       "3  1610612737   2023       00      Kobe Bufkin      Kobe      kobe-bufkin   4   \n",
       "4  1610612737   2023       00  Dejounte Murray  Dejounte  dejounte-murray   5   \n",
       "\n",
       "  POSITION HEIGHT WEIGHT    BIRTH_DATE   AGE EXP         SCHOOL  PLAYER_ID  \\\n",
       "0        F    6-8    219  DEC 18, 2001  22.0   2           Duke    1630552   \n",
       "1        G    6-4    210  JUN 12, 1998  26.0   3  Florida State    1630235   \n",
       "2      G-F    6-4    220  APR 02, 2000  24.0   R     Penn State    1641754   \n",
       "3        G    6-5    195  SEP 21, 2003  20.0   R       Michigan    1641723   \n",
       "4        G    6-5    180  SEP 19, 1996  27.0   6     Washington    1627749   \n",
       "\n",
       "             HOW_ACQUIRED  \n",
       "0  #20 Pick in 2021 Draft  \n",
       "1                    None  \n",
       "2  #46 Pick in 2023 Draft  \n",
       "3  #15 Pick in 2023 Draft  \n",
       "4                    None  "
      ]
     },
     "execution_count": 7,
     "metadata": {},
     "output_type": "execute_result"
    }
   ],
   "source": [
    "# all_players_info_df = pd.read_csv(\"data/nba_players.csv\")\n",
    "all_players_info_df.head()"
   ]
  },
  {
   "cell_type": "markdown",
   "metadata": {},
   "source": [
    "---\n",
    "\n",
    "### Colleges"
   ]
  },
  {
   "cell_type": "code",
   "execution_count": null,
   "metadata": {},
   "outputs": [],
   "source": [
    "# Analyze colleges\n",
    "filtered_school_counts_df = all_players_info_df['SCHOOL'].value_counts()\n",
    "filtered_school_counts_df = filtered_school_counts_df[filtered_school_counts_df > 1].reset_index()\n",
    "filtered_school_counts_df.columns = ['SCHOOL', 'Count']\n",
    "\n",
    "replacements = {'Southern California': 'Southern<br>California', \n",
    "                'North Carolina': 'North<br>Carolina', 'NBA G League Ignite': 'NBA<br>G League', 'State': 'St.'}\n",
    "\n",
    "filtered_school_counts_df['SCHOOL'] = filtered_school_counts_df['SCHOOL'].replace(replacements, regex=True)"
   ]
  },
  {
   "cell_type": "markdown",
   "metadata": {},
   "source": [
    "--"
   ]
  },
  {
   "cell_type": "code",
   "execution_count": null,
   "metadata": {
    "tags": [
     "hide-code"
    ]
   },
   "outputs": [],
   "source": [
    "def get_color(name, number):\n",
    "    return list(sns.color_palette(palette=name, n_colors=number).as_hex())\n",
    "\n",
    "# Create custom colormap and convert to a list of hex colors\n",
    "cmap = clr.LinearSegmentedColormap.from_list('custom blue', ['#FDE3FE', '#E8E08D', '#FCA611', '#FB831E', '#FF4F2D', '#FA6094', '#1C3858'], N=len(filtered_school_counts_df))\n",
    "colors = [matplotlib.colors.rgb2hex(cmap(i)) for i in range(cmap.N)]\n",
    "\n",
    "# Set the custom palette\n",
    "custom_palette = sns.set_palette(sns.color_palette(colors))\n",
    "pal_vi = get_color(custom_palette, len(filtered_school_counts_df))"
   ]
  },
  {
   "cell_type": "code",
   "execution_count": null,
   "metadata": {
    "tags": [
     "hide-code",
     "hide-warning",
     "hide-message"
    ]
   },
   "outputs": [],
   "source": [
    "# compute circle positions:\n",
    "circles = circlify.circlify(\n",
    "    filtered_school_counts_df['Count'].tolist(),\n",
    "    target_enclosure=circlify.Circle(x=0, y=0, r=1),\n",
    "    show_enclosure=False\n",
    ")\n",
    "\n",
    "bubble_df = pd.DataFrame({\n",
    "    'x': [cir.x for cir in circles],\n",
    "    'y': [cir.y for cir in circles],\n",
    "    'r': [cir.r for cir in circles],\n",
    "    'l': filtered_school_counts_df.sort_values('Count').SCHOOL.values,\n",
    "    's': [math.pi * (cir.r ** 2) for cir in circles],\n",
    "    'k': filtered_school_counts_df.sort_values('Count').Count.values\n",
    "})\n",
    "\n",
    "bubble_df[\"rank\"] = bubble_df.sort_values(by=\"k\").index\n",
    "font_size = 90 * bubble_df.r.values\n",
    "font_colors = ['white' if i > 9 else '#F4F4F4' if i > 8 else 'black' for i in bubble_df['k']]"
   ]
  },
  {
   "cell_type": "code",
   "execution_count": null,
   "metadata": {
    "tags": [
     "hide-code"
    ]
   },
   "outputs": [
    {
     "data": {
      "application/vnd.plotly.v1+json": {
       "config": {
        "plotlyServerURL": "https://plot.ly"
       },
       "data": [
        {
         "customdata": [
          [
           "Washington St.",
           0,
           2
          ],
          [
           "Baskonia",
           32,
           2
          ],
          [
           "Nebraska",
           31,
           2
          ],
          [
           "TCU",
           30,
           2
          ],
          [
           "St. Mary's",
           29,
           2
          ],
          [
           "Wisconsin",
           28,
           2
          ],
          [
           "Pepperdine",
           27,
           2
          ],
          [
           "Arizona St.",
           26,
           2
          ],
          [
           "Virginia Commonwealth",
           25,
           2
          ],
          [
           "Fresno St.",
           24,
           2
          ],
          [
           "Metropolitans 92",
           23,
           2
          ],
          [
           "Notre Dame",
           22,
           2
          ],
          [
           "New Zealand Breakers",
           21,
           2
          ],
          [
           "Western Kentucky",
           20,
           2
          ],
          [
           "Maccabi Tel Aviv",
           18,
           2
          ],
          [
           "Anadolu Efes",
           17,
           2
          ],
          [
           "Seton Hall",
           19,
           2
          ],
          [
           "Murray St.",
           15,
           2
          ],
          [
           "Boston College",
           1,
           2
          ],
          [
           "Dayton",
           2,
           2
          ],
          [
           "Kansas St.",
           3,
           2
          ],
          [
           "Utah St.",
           4,
           2
          ],
          [
           "Fenerbahce",
           16,
           2
          ],
          [
           "South Carolina",
           6,
           2
          ],
          [
           "Xavier",
           7,
           2
          ],
          [
           "Santa Clara",
           5,
           2
          ],
          [
           "Belmont",
           9,
           2
          ],
          [
           "West Virginia",
           10,
           2
          ],
          [
           "New Mexico St.",
           11,
           2
          ],
          [
           "Georgetown",
           12,
           2
          ],
          [
           "Oregon St.",
           13,
           2
          ],
          [
           "UNLV",
           14,
           2
          ],
          [
           "Illinois",
           8,
           2
          ],
          [
           "Oklahoma St.",
           42,
           3
          ],
          [
           "Wichita St.",
           48,
           3
          ],
          [
           "Stanford",
           47,
           3
          ],
          [
           "Utah",
           46,
           3
          ],
          [
           "North<br>Carolina St.",
           44,
           3
          ],
          [
           "Pittsburgh",
           43,
           3
          ],
          [
           "Georgia Tech",
           41,
           3
          ],
          [
           "San Diego St.",
           45,
           3
          ],
          [
           "Georgia",
           39,
           3
          ],
          [
           "Iowa",
           33,
           3
          ],
          [
           "Nevada",
           34,
           3
          ],
          [
           "Providence",
           35,
           3
          ],
          [
           "Oklahoma",
           40,
           3
          ],
          [
           "Missouri",
           36,
           3
          ],
          [
           "Real Madrid",
           37,
           3
          ],
          [
           "DePaul",
           38,
           3
          ],
          [
           "Houston",
           58,
           4
          ],
          [
           "Mega Basket",
           57,
           4
          ],
          [
           "Louisville",
           56,
           4
          ],
          [
           "Connecticut",
           54,
           4
          ],
          [
           "Colorado",
           55,
           4
          ],
          [
           "Iowa St.",
           52,
           4
          ],
          [
           "Penn St.",
           51,
           4
          ],
          [
           "Miami",
           50,
           4
          ],
          [
           "Syracuse",
           49,
           4
          ],
          [
           "Overtime Elite",
           53,
           4
          ],
          [
           "Marquette",
           59,
           5
          ],
          [
           "Maryland",
           60,
           5
          ],
          [
           "Wake Forest",
           61,
           5
          ],
          [
           "Texas A&M",
           62,
           5
          ],
          [
           "Auburn",
           63,
           5
          ],
          [
           "Indiana",
           68,
           6
          ],
          [
           "Florida",
           67,
           6
          ],
          [
           "Vanderbilt",
           65,
           6
          ],
          [
           "Memphis",
           64,
           6
          ],
          [
           "Michigan St.",
           66,
           6
          ],
          [
           "Alabama",
           69,
           7
          ],
          [
           "Washington",
           70,
           7
          ],
          [
           "Tennessee",
           71,
           7
          ],
          [
           "Oregon",
           72,
           7
          ],
          [
           "Louisiana St.",
           73,
           8
          ],
          [
           "Ohio St.",
           74,
           8
          ],
          [
           "Florida St.",
           75,
           8
          ],
          [
           "NBA<br>G League",
           82,
           9
          ],
          [
           "Baylor",
           81,
           9
          ],
          [
           "North<br>Carolina",
           80,
           9
          ],
          [
           "Texas",
           78,
           9
          ],
          [
           "Southern<br>California",
           77,
           9
          ],
          [
           "Virginia",
           76,
           9
          ],
          [
           "Arizona",
           79,
           9
          ],
          [
           "Villanova",
           83,
           10
          ],
          [
           "Gonzaga",
           84,
           10
          ],
          [
           "Michigan",
           85,
           10
          ],
          [
           "Kansas",
           86,
           12
          ],
          [
           "Arkansas",
           87,
           12
          ],
          [
           "UCLA",
           88,
           16
          ],
          [
           "Duke",
           89,
           24
          ],
          [
           "Kentucky",
           90,
           27
          ]
         ],
         "hovertemplate": "%{customdata[0]}<br>%{customdata[2]}",
         "hovertext": [
          "Washington St.",
          "Baskonia",
          "Nebraska",
          "TCU",
          "St. Mary's",
          "Wisconsin",
          "Pepperdine",
          "Arizona St.",
          "Virginia Commonwealth",
          "Fresno St.",
          "Metropolitans 92",
          "Notre Dame",
          "New Zealand Breakers",
          "Western Kentucky",
          "Maccabi Tel Aviv",
          "Anadolu Efes",
          "Seton Hall",
          "Murray St.",
          "Boston College",
          "Dayton",
          "Kansas St.",
          "Utah St.",
          "Fenerbahce",
          "South Carolina",
          "Xavier",
          "Santa Clara",
          "Belmont",
          "West Virginia",
          "New Mexico St.",
          "Georgetown",
          "Oregon St.",
          "UNLV",
          "Illinois",
          "Oklahoma St.",
          "Wichita St.",
          "Stanford",
          "Utah",
          "North<br>Carolina St.",
          "Pittsburgh",
          "Georgia Tech",
          "San Diego St.",
          "Georgia",
          "Iowa",
          "Nevada",
          "Providence",
          "Oklahoma",
          "Missouri",
          "Real Madrid",
          "DePaul",
          "Houston",
          "Mega Basket",
          "Louisville",
          "Connecticut",
          "Colorado",
          "Iowa St.",
          "Penn St.",
          "Miami",
          "Syracuse",
          "Overtime Elite",
          "Marquette",
          "Maryland",
          "Wake Forest",
          "Texas A&M",
          "Auburn",
          "Indiana",
          "Florida",
          "Vanderbilt",
          "Memphis",
          "Michigan St.",
          "Alabama",
          "Washington",
          "Tennessee",
          "Oregon",
          "Louisiana St.",
          "Ohio St.",
          "Florida St.",
          "NBA<br>G League",
          "Baylor",
          "North<br>Carolina",
          "Texas",
          "Southern<br>California",
          "Virginia",
          "Arizona",
          "Villanova",
          "Gonzaga",
          "Michigan",
          "Kansas",
          "Arkansas",
          "UCLA",
          "Duke",
          "Kentucky"
         ],
         "legendgroup": "",
         "marker": {
          "color": [
           0,
           32,
           31,
           30,
           29,
           28,
           27,
           26,
           25,
           24,
           23,
           22,
           21,
           20,
           18,
           17,
           19,
           15,
           1,
           2,
           3,
           4,
           16,
           6,
           7,
           5,
           9,
           10,
           11,
           12,
           13,
           14,
           8,
           42,
           48,
           47,
           46,
           44,
           43,
           41,
           45,
           39,
           33,
           34,
           35,
           40,
           36,
           37,
           38,
           58,
           57,
           56,
           54,
           55,
           52,
           51,
           50,
           49,
           53,
           59,
           60,
           61,
           62,
           63,
           68,
           67,
           65,
           64,
           66,
           69,
           70,
           71,
           72,
           73,
           74,
           75,
           82,
           81,
           80,
           78,
           77,
           76,
           79,
           83,
           84,
           85,
           86,
           87,
           88,
           89,
           90
          ],
          "coloraxis": "coloraxis",
          "opacity": 0.95,
          "size": [
           0.008953734804011987,
           0.008953734804011987,
           0.008953734804011987,
           0.008953734804011987,
           0.008953734804011987,
           0.008953734804011987,
           0.008953734804011987,
           0.008953734804011987,
           0.008953734804011987,
           0.008953734804011987,
           0.008953734804011987,
           0.008953734804011987,
           0.008953734804011987,
           0.008953734804011987,
           0.008953734804011987,
           0.008953734804011987,
           0.008953734804011987,
           0.008953734804011987,
           0.008953734804011987,
           0.008953734804011987,
           0.008953734804011987,
           0.008953734804011987,
           0.008953734804011987,
           0.008953734804011987,
           0.008953734804011987,
           0.008953734804011987,
           0.008953734804011987,
           0.008953734804011987,
           0.008953734804011987,
           0.008953734804011987,
           0.008953734804011987,
           0.008953734804011987,
           0.008953734804011987,
           0.013430602206017979,
           0.013430602206017979,
           0.013430602206017979,
           0.013430602206017979,
           0.013430602206017979,
           0.013430602206017979,
           0.013430602206017979,
           0.013430602206017979,
           0.013430602206017979,
           0.013430602206017979,
           0.013430602206017979,
           0.013430602206017979,
           0.013430602206017979,
           0.013430602206017979,
           0.013430602206017979,
           0.013430602206017979,
           0.017907469608023974,
           0.017907469608023974,
           0.017907469608023974,
           0.017907469608023974,
           0.017907469608023974,
           0.017907469608023974,
           0.017907469608023974,
           0.017907469608023974,
           0.017907469608023974,
           0.017907469608023974,
           0.02238433701002997,
           0.02238433701002997,
           0.02238433701002997,
           0.02238433701002997,
           0.02238433701002997,
           0.02686120441203595,
           0.02686120441203595,
           0.02686120441203595,
           0.02686120441203595,
           0.02686120441203595,
           0.03133807181404196,
           0.03133807181404196,
           0.03133807181404196,
           0.03133807181404196,
           0.03581493921604795,
           0.03581493921604795,
           0.03581493921604795,
           0.040291806618053934,
           0.040291806618053934,
           0.040291806618053934,
           0.040291806618053934,
           0.040291806618053934,
           0.040291806618053934,
           0.040291806618053934,
           0.04476867402005994,
           0.04476867402005994,
           0.04476867402005994,
           0.053722408824071914,
           0.053722408824071914,
           0.0716298784320959,
           0.1074448176481438,
           0.12087541985416182
          ],
          "sizemode": "area",
          "sizeref": 0.000024668453031461596,
          "symbol": "circle"
         },
         "mode": "markers+text",
         "name": "",
         "orientation": "v",
         "showlegend": false,
         "text": [
          "Washington St.",
          "Baskonia",
          "Nebraska",
          "TCU",
          "St. Mary's",
          "Wisconsin",
          "Pepperdine",
          "Arizona St.",
          "Virginia Commonwealth",
          "Fresno St.",
          "Metropolitans 92",
          "Notre Dame",
          "New Zealand Breakers",
          "Western Kentucky",
          "Maccabi Tel Aviv",
          "Anadolu Efes",
          "Seton Hall",
          "Murray St.",
          "Boston College",
          "Dayton",
          "Kansas St.",
          "Utah St.",
          "Fenerbahce",
          "South Carolina",
          "Xavier",
          "Santa Clara",
          "Belmont",
          "West Virginia",
          "New Mexico St.",
          "Georgetown",
          "Oregon St.",
          "UNLV",
          "Illinois",
          "Oklahoma St.",
          "Wichita St.",
          "Stanford",
          "Utah",
          "North<br>Carolina St.",
          "Pittsburgh",
          "Georgia Tech",
          "San Diego St.",
          "Georgia",
          "Iowa",
          "Nevada",
          "Providence",
          "Oklahoma",
          "Missouri",
          "Real Madrid",
          "DePaul",
          "Houston",
          "Mega Basket",
          "Louisville",
          "Connecticut",
          "Colorado",
          "Iowa St.",
          "Penn St.",
          "Miami",
          "Syracuse",
          "Overtime Elite",
          "Marquette",
          "Maryland",
          "Wake Forest",
          "Texas A&M",
          "Auburn",
          "Indiana",
          "Florida",
          "Vanderbilt",
          "Memphis",
          "Michigan St.",
          "Alabama",
          "Washington",
          "Tennessee",
          "Oregon",
          "Louisiana St.",
          "Ohio St.",
          "Florida St.",
          "NBA<br>G League",
          "Baylor",
          "North<br>Carolina",
          "Texas",
          "Southern<br>California",
          "Virginia",
          "Arizona",
          "Villanova",
          "Gonzaga",
          "Michigan",
          "Kansas",
          "Arkansas",
          "UCLA",
          "Duke",
          "Kentucky"
         ],
         "textfont": {
          "color": [
           "black",
           "black",
           "black",
           "black",
           "black",
           "black",
           "black",
           "black",
           "black",
           "black",
           "black",
           "black",
           "black",
           "black",
           "black",
           "black",
           "black",
           "black",
           "black",
           "black",
           "black",
           "black",
           "black",
           "black",
           "black",
           "black",
           "black",
           "black",
           "black",
           "black",
           "black",
           "black",
           "black",
           "black",
           "black",
           "black",
           "black",
           "black",
           "black",
           "black",
           "black",
           "black",
           "black",
           "black",
           "black",
           "black",
           "black",
           "black",
           "black",
           "black",
           "black",
           "black",
           "black",
           "black",
           "black",
           "black",
           "black",
           "black",
           "black",
           "black",
           "black",
           "black",
           "black",
           "black",
           "black",
           "black",
           "black",
           "black",
           "black",
           "black",
           "black",
           "black",
           "black",
           "black",
           "black",
           "black",
           "#F4F4F4",
           "#F4F4F4",
           "#F4F4F4",
           "#F4F4F4",
           "#F4F4F4",
           "#F4F4F4",
           "#F4F4F4",
           "white",
           "white",
           "white",
           "white",
           "white",
           "white",
           "white",
           "white"
          ],
          "size": [
           4.80473773287551,
           4.80473773287551,
           4.80473773287551,
           4.80473773287551,
           4.80473773287551,
           4.80473773287551,
           4.80473773287551,
           4.80473773287551,
           4.80473773287551,
           4.80473773287551,
           4.80473773287551,
           4.80473773287551,
           4.80473773287551,
           4.80473773287551,
           4.80473773287551,
           4.80473773287551,
           4.80473773287551,
           4.80473773287551,
           4.80473773287551,
           4.80473773287551,
           4.80473773287551,
           4.80473773287551,
           4.80473773287551,
           4.80473773287551,
           4.80473773287551,
           4.80473773287551,
           4.80473773287551,
           4.80473773287551,
           4.80473773287551,
           4.80473773287551,
           4.80473773287551,
           4.80473773287551,
           4.80473773287551,
           5.8845778967209315,
           5.8845778967209315,
           5.8845778967209315,
           5.8845778967209315,
           5.8845778967209315,
           5.8845778967209315,
           5.8845778967209315,
           5.8845778967209315,
           5.8845778967209315,
           5.8845778967209315,
           5.8845778967209315,
           5.8845778967209315,
           5.8845778967209315,
           5.8845778967209315,
           5.8845778967209315,
           5.8845778967209315,
           6.7949252654783034,
           6.7949252654783034,
           6.7949252654783034,
           6.7949252654783034,
           6.7949252654783034,
           6.7949252654783034,
           6.7949252654783034,
           6.7949252654783034,
           6.7949252654783034,
           6.7949252654783034,
           7.596957397820146,
           7.596957397820146,
           7.596957397820146,
           7.596957397820146,
           7.596957397820146,
           8.322049870383683,
           8.322049870383683,
           8.322049870383683,
           8.322049870383683,
           8.322049870383683,
           8.988841214862568,
           8.988841214862568,
           8.988841214862568,
           8.988841214862568,
           9.60947546575102,
           9.60947546575102,
           9.60947546575102,
           10.192387898217454,
           10.192387898217454,
           10.192387898217454,
           10.192387898217454,
           10.192387898217454,
           10.192387898217454,
           10.192387898217454,
           10.743720184767868,
           10.743720184767868,
           10.743720184767868,
           11.769155793441863,
           11.769155793441863,
           13.589850530956607,
           16.644099740767366,
           17.653733690162795
          ]
         },
         "texttemplate": "<b style='letter-spacing: 0.25px;text-transform:uppercase;font-family:Roboto Condensed;'>%{customdata[0]}</b><br>%{customdata[2]}",
         "type": "scatter",
         "x": [
          -0.08837337846512863,
          -0.523948406206787,
          -0.3831833865807971,
          0.5740890171108337,
          0.14411070070273016,
          -0.185879625612583,
          -0.4895315308247915,
          -0.751807582950551,
          -0.6304543715180696,
          -0.7853365601119517,
          -0.6635329191851174,
          -0.8160433355320994,
          -0.7310906427662122,
          -0.3570906936322554,
          -0.030326200980439748,
          -0.5960374961360742,
          0.3563941302082422,
          -0.4634388378762498,
          -0.2747582936204998,
          0.0758278813233801,
          -0.12783244812789424,
          0.4849468292482688,
          0.24045380448098178,
          -0.8112687176787978,
          -0.7372223141893349,
          -0.8600102526134779,
          -0.831856068582554,
          -0.5699448031875324,
          -0.7028054388073397,
          -0.4184952627652866,
          -0.8365844621890793,
          -0.8880011858295417,
          -0.2167111161358112,
          0.2374368432216816,
          -0.6379619544815939,
          -0.48284507026510043,
          -0.7216218108435702,
          -0.15024416748738917,
          0.11915906052985782,
          -0.40533546832179795,
          0.4709381777991749,
          0.366333398477032,
          0.6360040676799159,
          0.02969719389432438,
          0.23801525130574513,
          -0.2672581772274125,
          -0.6129077129436745,
          -0.7468410595906364,
          -0.6953837057816181,
          -0.5049232738583598,
          -0.5420705638812506,
          -0.6021649177313408,
          -0.3436259860118484,
          -0.5309710146475607,
          -0.6232843166657513,
          -0.6663607728089447,
          -0.5349287584749731,
          -0.016590780769158524,
          -0.26446200220942595,
          0.3246066251529813,
          -0.3817725878234418,
          -0.12551497007439227,
          -0.38382546049262,
          -0.23213559045935944,
          -0.3166925079514701,
          -0.45411034117638877,
          -0.21228469971935793,
          -0.4709364671195946,
          0.10174438990569233,
          -0.2874844843500669,
          -0.01996590794607943,
          -0.05066661871935215,
          -0.36919252336914876,
          -0.18327710191568583,
          -0.1210945865494845,
          -0.20272457091378834,
          0.036667063356246477,
          0.09052540274602773,
          0.45771786642548973,
          0.18993767465638334,
          -0.07475318774528353,
          0.016496258990550957,
          0.16066647809342963,
          0.2115448146343296,
          0.6139878585454552,
          0.3228088144145915,
          0.4824110602879322,
          0.7615387490286906,
          0.4818155464108814,
          0.3013260809383311,
          0.6824131190597773
         ],
         "xaxis": "x",
         "y": [
          0.7191009945458393,
          0.5396811093960344,
          0.6502577528959901,
          0.3859446300609272,
          0.7381020156085856,
          0.7626070974827742,
          0.6407539935662203,
          -0.16015608778546256,
          0.5321492717284062,
          0.23564752178605286,
          -0.3854997029831554,
          0.02676226549870842,
          0.4264785414012881,
          0.7537923876818081,
          0.8087155827087087,
          0.6332221558985921,
          0.6750144146099132,
          0.7442886283520385,
          0.8217749231879503,
          0.8201855450353023,
          0.8522216856456435,
          0.5627607067275496,
          0.7841265262514233,
          0.33922248222277185,
          0.5330742816121355,
          0.15933180339379016,
          -0.08949853918969955,
          0.7367567906844102,
          0.6341471657823217,
          0.8411407025775544,
          0.4429498282094006,
          0.2649770947765829,
          0.9113895113508198,
          0.5346142705389304,
          0.19571624499296353,
          0.42825009968056105,
          -0.04528584222965953,
          0.6177187494656085,
          0.6108508494130827,
          0.5335716807781702,
          0.44481956956022006,
          0.5566608548914743,
          0.27780135081528545,
          0.7062287727307743,
          0.6653813890450659,
          0.6760976443067336,
          0.4146823873540487,
          0.1232889413777972,
          0.3132029094104522,
          0.14936073864077784,
          -0.3423919693639114,
          -0.1199730178297032,
          0.4066591272424271,
          -0.4929818045384282,
          0.05559954199405146,
          -0.2566455850915153,
          0.2973477966695171,
          0.5731665808328084,
          0.5352420270371084,
          0.41279505123478477,
          0.2513659101872936,
          0.45609110313870427,
          -0.5555863761409916,
          -0.6832293917869836,
          0.08689597359097544,
          -0.19929861687959355,
          0.3019587221881764,
          -0.015131222473411355,
          0.45396299160478204,
          -0.10321665389807014,
          0.30502500729479565,
          -0.7153320727546513,
          -0.37188159400174525,
          -0.2816660924148769,
          0.124812990423783,
          -0.4943226061917334,
          -0.28746905466634287,
          0.06459596344115745,
          0.26667649401789373,
          0.26811088109721004,
          -0.09027207406217559,
          -0.5130666170781942,
          -0.6877551096549988,
          -0.1340694813185516,
          0.09435891929555305,
          0.07716869818647076,
          -0.6834378243731414,
          -0.10763189336156402,
          -0.14150554037202906,
          -0.4248328882708748,
          -0.4248328882708748
         ],
         "yaxis": "y"
        }
       ],
       "layout": {
        "coloraxis": {
         "colorbar": {
          "title": {
           "text": "rank"
          }
         },
         "colorscale": [
          [
           0,
           "#fde3fe"
          ],
          [
           0.011111111111111112,
           "#fce3f6"
          ],
          [
           0.022222222222222223,
           "#fae3ef"
          ],
          [
           0.03333333333333333,
           "#f9e2e7"
          ],
          [
           0.044444444444444446,
           "#f7e2e0"
          ],
          [
           0.05555555555555555,
           "#f6e2d8"
          ],
          [
           0.06666666666666667,
           "#f5e2d1"
          ],
          [
           0.07777777777777778,
           "#f3e2c9"
          ],
          [
           0.08888888888888889,
           "#f2e1c2"
          ],
          [
           0.1,
           "#f0e1ba"
          ],
          [
           0.1111111111111111,
           "#efe1b3"
          ],
          [
           0.12222222222222222,
           "#eee1ab"
          ],
          [
           0.13333333333333333,
           "#ece1a4"
          ],
          [
           0.14444444444444443,
           "#ebe09c"
          ],
          [
           0.15555555555555556,
           "#e9e095"
          ],
          [
           0.16666666666666666,
           "#e8e08d"
          ],
          [
           0.17777777777777778,
           "#e9dc85"
          ],
          [
           0.18888888888888888,
           "#ebd87c"
          ],
          [
           0.2,
           "#ecd474"
          ],
          [
           0.2111111111111111,
           "#edd16c"
          ],
          [
           0.2222222222222222,
           "#efcd64"
          ],
          [
           0.23333333333333334,
           "#f0c95b"
          ],
          [
           0.24444444444444444,
           "#f1c553"
          ],
          [
           0.25555555555555554,
           "#f3c14b"
          ],
          [
           0.26666666666666666,
           "#f4bd43"
          ],
          [
           0.2777777777777778,
           "#f5b93a"
          ],
          [
           0.28888888888888886,
           "#f7b532"
          ],
          [
           0.3,
           "#f8b22a"
          ],
          [
           0.3111111111111111,
           "#f9ae22"
          ],
          [
           0.32222222222222224,
           "#fbaa19"
          ],
          [
           0.3333333333333333,
           "#fca611"
          ],
          [
           0.34444444444444444,
           "#fca412"
          ],
          [
           0.35555555555555557,
           "#fca113"
          ],
          [
           0.36666666666666664,
           "#fc9f14"
          ],
          [
           0.37777777777777777,
           "#fc9d14"
          ],
          [
           0.3888888888888889,
           "#fc9a15"
          ],
          [
           0.4,
           "#fc9816"
          ],
          [
           0.4111111111111111,
           "#fc9617"
          ],
          [
           0.4222222222222222,
           "#fb9318"
          ],
          [
           0.43333333333333335,
           "#fb9119"
          ],
          [
           0.4444444444444444,
           "#fb8f1a"
          ],
          [
           0.45555555555555555,
           "#fb8c1b"
          ],
          [
           0.4666666666666667,
           "#fb8a1b"
          ],
          [
           0.4777777777777778,
           "#fb881c"
          ],
          [
           0.4888888888888889,
           "#fb851d"
          ],
          [
           0.5,
           "#fb831e"
          ],
          [
           0.5111111111111111,
           "#fb801f"
          ],
          [
           0.5222222222222223,
           "#fc7c20"
          ],
          [
           0.5333333333333333,
           "#fc7921"
          ],
          [
           0.5444444444444444,
           "#fc7522"
          ],
          [
           0.5555555555555556,
           "#fc7223"
          ],
          [
           0.5666666666666667,
           "#fd6e24"
          ],
          [
           0.5777777777777777,
           "#fd6b25"
          ],
          [
           0.5888888888888889,
           "#fd6726"
          ],
          [
           0.6,
           "#fd6427"
          ],
          [
           0.6111111111111112,
           "#fe6028"
          ],
          [
           0.6222222222222222,
           "#fe5d29"
          ],
          [
           0.6333333333333333,
           "#fe592a"
          ],
          [
           0.6444444444444445,
           "#fe562b"
          ],
          [
           0.6555555555555556,
           "#ff522c"
          ],
          [
           0.6666666666666666,
           "#ff4f2d"
          ],
          [
           0.6777777777777778,
           "#ff5034"
          ],
          [
           0.6888888888888889,
           "#fe513b"
          ],
          [
           0.7,
           "#fe5242"
          ],
          [
           0.7111111111111111,
           "#fe5448"
          ],
          [
           0.7222222222222222,
           "#fd554f"
          ],
          [
           0.7333333333333333,
           "#fd5656"
          ],
          [
           0.7444444444444445,
           "#fd575d"
          ],
          [
           0.7555555555555555,
           "#fc5864"
          ],
          [
           0.7666666666666667,
           "#fc596b"
          ],
          [
           0.7777777777777778,
           "#fc5a72"
          ],
          [
           0.7888888888888889,
           "#fb5b79"
          ],
          [
           0.8,
           "#fb5d7f"
          ],
          [
           0.8111111111111111,
           "#fb5e86"
          ],
          [
           0.8222222222222222,
           "#fa5f8d"
          ],
          [
           0.8333333333333334,
           "#fa6094"
          ],
          [
           0.8444444444444444,
           "#eb5d90"
          ],
          [
           0.8555555555555555,
           "#dc5b8c"
          ],
          [
           0.8666666666666667,
           "#ce5888"
          ],
          [
           0.8777777777777778,
           "#bf5584"
          ],
          [
           0.8888888888888888,
           "#b05380"
          ],
          [
           0.9,
           "#a1507c"
          ],
          [
           0.9111111111111111,
           "#924d78"
          ],
          [
           0.9222222222222223,
           "#844b74"
          ],
          [
           0.9333333333333333,
           "#754870"
          ],
          [
           0.9444444444444444,
           "#66456c"
          ],
          [
           0.9555555555555556,
           "#574368"
          ],
          [
           0.9666666666666667,
           "#484064"
          ],
          [
           0.9777777777777777,
           "#3a3d60"
          ],
          [
           0.9888888888888889,
           "#2b3b5c"
          ],
          [
           1,
           "#1c3858"
          ]
         ],
         "showscale": false
        },
        "font": {
         "color": "black",
         "family": "Roboto",
         "size": 12
        },
        "height": 500,
        "legend": {
         "itemsizing": "constant",
         "tracegroupgap": 0
        },
        "margin": {
         "t": 60
        },
        "paper_bgcolor": "rgba(0, 0, 0, 0)",
        "plot_bgcolor": "rgba(0, 0, 0, 0)",
        "showlegend": false,
        "template": {
         "data": {
          "bar": [
           {
            "error_x": {
             "color": "#2a3f5f"
            },
            "error_y": {
             "color": "#2a3f5f"
            },
            "marker": {
             "line": {
              "color": "#E5ECF6",
              "width": 0.5
             },
             "pattern": {
              "fillmode": "overlay",
              "size": 10,
              "solidity": 0.2
             }
            },
            "type": "bar"
           }
          ],
          "barpolar": [
           {
            "marker": {
             "line": {
              "color": "#E5ECF6",
              "width": 0.5
             },
             "pattern": {
              "fillmode": "overlay",
              "size": 10,
              "solidity": 0.2
             }
            },
            "type": "barpolar"
           }
          ],
          "carpet": [
           {
            "aaxis": {
             "endlinecolor": "#2a3f5f",
             "gridcolor": "white",
             "linecolor": "white",
             "minorgridcolor": "white",
             "startlinecolor": "#2a3f5f"
            },
            "baxis": {
             "endlinecolor": "#2a3f5f",
             "gridcolor": "white",
             "linecolor": "white",
             "minorgridcolor": "white",
             "startlinecolor": "#2a3f5f"
            },
            "type": "carpet"
           }
          ],
          "choropleth": [
           {
            "colorbar": {
             "outlinewidth": 0,
             "ticks": ""
            },
            "type": "choropleth"
           }
          ],
          "contour": [
           {
            "colorbar": {
             "outlinewidth": 0,
             "ticks": ""
            },
            "colorscale": [
             [
              0,
              "#0d0887"
             ],
             [
              0.1111111111111111,
              "#46039f"
             ],
             [
              0.2222222222222222,
              "#7201a8"
             ],
             [
              0.3333333333333333,
              "#9c179e"
             ],
             [
              0.4444444444444444,
              "#bd3786"
             ],
             [
              0.5555555555555556,
              "#d8576b"
             ],
             [
              0.6666666666666666,
              "#ed7953"
             ],
             [
              0.7777777777777778,
              "#fb9f3a"
             ],
             [
              0.8888888888888888,
              "#fdca26"
             ],
             [
              1,
              "#f0f921"
             ]
            ],
            "type": "contour"
           }
          ],
          "contourcarpet": [
           {
            "colorbar": {
             "outlinewidth": 0,
             "ticks": ""
            },
            "type": "contourcarpet"
           }
          ],
          "heatmap": [
           {
            "colorbar": {
             "outlinewidth": 0,
             "ticks": ""
            },
            "colorscale": [
             [
              0,
              "#0d0887"
             ],
             [
              0.1111111111111111,
              "#46039f"
             ],
             [
              0.2222222222222222,
              "#7201a8"
             ],
             [
              0.3333333333333333,
              "#9c179e"
             ],
             [
              0.4444444444444444,
              "#bd3786"
             ],
             [
              0.5555555555555556,
              "#d8576b"
             ],
             [
              0.6666666666666666,
              "#ed7953"
             ],
             [
              0.7777777777777778,
              "#fb9f3a"
             ],
             [
              0.8888888888888888,
              "#fdca26"
             ],
             [
              1,
              "#f0f921"
             ]
            ],
            "type": "heatmap"
           }
          ],
          "heatmapgl": [
           {
            "colorbar": {
             "outlinewidth": 0,
             "ticks": ""
            },
            "colorscale": [
             [
              0,
              "#0d0887"
             ],
             [
              0.1111111111111111,
              "#46039f"
             ],
             [
              0.2222222222222222,
              "#7201a8"
             ],
             [
              0.3333333333333333,
              "#9c179e"
             ],
             [
              0.4444444444444444,
              "#bd3786"
             ],
             [
              0.5555555555555556,
              "#d8576b"
             ],
             [
              0.6666666666666666,
              "#ed7953"
             ],
             [
              0.7777777777777778,
              "#fb9f3a"
             ],
             [
              0.8888888888888888,
              "#fdca26"
             ],
             [
              1,
              "#f0f921"
             ]
            ],
            "type": "heatmapgl"
           }
          ],
          "histogram": [
           {
            "marker": {
             "pattern": {
              "fillmode": "overlay",
              "size": 10,
              "solidity": 0.2
             }
            },
            "type": "histogram"
           }
          ],
          "histogram2d": [
           {
            "colorbar": {
             "outlinewidth": 0,
             "ticks": ""
            },
            "colorscale": [
             [
              0,
              "#0d0887"
             ],
             [
              0.1111111111111111,
              "#46039f"
             ],
             [
              0.2222222222222222,
              "#7201a8"
             ],
             [
              0.3333333333333333,
              "#9c179e"
             ],
             [
              0.4444444444444444,
              "#bd3786"
             ],
             [
              0.5555555555555556,
              "#d8576b"
             ],
             [
              0.6666666666666666,
              "#ed7953"
             ],
             [
              0.7777777777777778,
              "#fb9f3a"
             ],
             [
              0.8888888888888888,
              "#fdca26"
             ],
             [
              1,
              "#f0f921"
             ]
            ],
            "type": "histogram2d"
           }
          ],
          "histogram2dcontour": [
           {
            "colorbar": {
             "outlinewidth": 0,
             "ticks": ""
            },
            "colorscale": [
             [
              0,
              "#0d0887"
             ],
             [
              0.1111111111111111,
              "#46039f"
             ],
             [
              0.2222222222222222,
              "#7201a8"
             ],
             [
              0.3333333333333333,
              "#9c179e"
             ],
             [
              0.4444444444444444,
              "#bd3786"
             ],
             [
              0.5555555555555556,
              "#d8576b"
             ],
             [
              0.6666666666666666,
              "#ed7953"
             ],
             [
              0.7777777777777778,
              "#fb9f3a"
             ],
             [
              0.8888888888888888,
              "#fdca26"
             ],
             [
              1,
              "#f0f921"
             ]
            ],
            "type": "histogram2dcontour"
           }
          ],
          "mesh3d": [
           {
            "colorbar": {
             "outlinewidth": 0,
             "ticks": ""
            },
            "type": "mesh3d"
           }
          ],
          "parcoords": [
           {
            "line": {
             "colorbar": {
              "outlinewidth": 0,
              "ticks": ""
             }
            },
            "type": "parcoords"
           }
          ],
          "pie": [
           {
            "automargin": true,
            "type": "pie"
           }
          ],
          "scatter": [
           {
            "fillpattern": {
             "fillmode": "overlay",
             "size": 10,
             "solidity": 0.2
            },
            "type": "scatter"
           }
          ],
          "scatter3d": [
           {
            "line": {
             "colorbar": {
              "outlinewidth": 0,
              "ticks": ""
             }
            },
            "marker": {
             "colorbar": {
              "outlinewidth": 0,
              "ticks": ""
             }
            },
            "type": "scatter3d"
           }
          ],
          "scattercarpet": [
           {
            "marker": {
             "colorbar": {
              "outlinewidth": 0,
              "ticks": ""
             }
            },
            "type": "scattercarpet"
           }
          ],
          "scattergeo": [
           {
            "marker": {
             "colorbar": {
              "outlinewidth": 0,
              "ticks": ""
             }
            },
            "type": "scattergeo"
           }
          ],
          "scattergl": [
           {
            "marker": {
             "colorbar": {
              "outlinewidth": 0,
              "ticks": ""
             }
            },
            "type": "scattergl"
           }
          ],
          "scattermapbox": [
           {
            "marker": {
             "colorbar": {
              "outlinewidth": 0,
              "ticks": ""
             }
            },
            "type": "scattermapbox"
           }
          ],
          "scatterpolar": [
           {
            "marker": {
             "colorbar": {
              "outlinewidth": 0,
              "ticks": ""
             }
            },
            "type": "scatterpolar"
           }
          ],
          "scatterpolargl": [
           {
            "marker": {
             "colorbar": {
              "outlinewidth": 0,
              "ticks": ""
             }
            },
            "type": "scatterpolargl"
           }
          ],
          "scatterternary": [
           {
            "marker": {
             "colorbar": {
              "outlinewidth": 0,
              "ticks": ""
             }
            },
            "type": "scatterternary"
           }
          ],
          "surface": [
           {
            "colorbar": {
             "outlinewidth": 0,
             "ticks": ""
            },
            "colorscale": [
             [
              0,
              "#0d0887"
             ],
             [
              0.1111111111111111,
              "#46039f"
             ],
             [
              0.2222222222222222,
              "#7201a8"
             ],
             [
              0.3333333333333333,
              "#9c179e"
             ],
             [
              0.4444444444444444,
              "#bd3786"
             ],
             [
              0.5555555555555556,
              "#d8576b"
             ],
             [
              0.6666666666666666,
              "#ed7953"
             ],
             [
              0.7777777777777778,
              "#fb9f3a"
             ],
             [
              0.8888888888888888,
              "#fdca26"
             ],
             [
              1,
              "#f0f921"
             ]
            ],
            "type": "surface"
           }
          ],
          "table": [
           {
            "cells": {
             "fill": {
              "color": "#EBF0F8"
             },
             "line": {
              "color": "white"
             }
            },
            "header": {
             "fill": {
              "color": "#C8D4E3"
             },
             "line": {
              "color": "white"
             }
            },
            "type": "table"
           }
          ]
         },
         "layout": {
          "annotationdefaults": {
           "arrowcolor": "#2a3f5f",
           "arrowhead": 0,
           "arrowwidth": 1
          },
          "autotypenumbers": "strict",
          "coloraxis": {
           "colorbar": {
            "outlinewidth": 0,
            "ticks": ""
           }
          },
          "colorscale": {
           "diverging": [
            [
             0,
             "#8e0152"
            ],
            [
             0.1,
             "#c51b7d"
            ],
            [
             0.2,
             "#de77ae"
            ],
            [
             0.3,
             "#f1b6da"
            ],
            [
             0.4,
             "#fde0ef"
            ],
            [
             0.5,
             "#f7f7f7"
            ],
            [
             0.6,
             "#e6f5d0"
            ],
            [
             0.7,
             "#b8e186"
            ],
            [
             0.8,
             "#7fbc41"
            ],
            [
             0.9,
             "#4d9221"
            ],
            [
             1,
             "#276419"
            ]
           ],
           "sequential": [
            [
             0,
             "#0d0887"
            ],
            [
             0.1111111111111111,
             "#46039f"
            ],
            [
             0.2222222222222222,
             "#7201a8"
            ],
            [
             0.3333333333333333,
             "#9c179e"
            ],
            [
             0.4444444444444444,
             "#bd3786"
            ],
            [
             0.5555555555555556,
             "#d8576b"
            ],
            [
             0.6666666666666666,
             "#ed7953"
            ],
            [
             0.7777777777777778,
             "#fb9f3a"
            ],
            [
             0.8888888888888888,
             "#fdca26"
            ],
            [
             1,
             "#f0f921"
            ]
           ],
           "sequentialminus": [
            [
             0,
             "#0d0887"
            ],
            [
             0.1111111111111111,
             "#46039f"
            ],
            [
             0.2222222222222222,
             "#7201a8"
            ],
            [
             0.3333333333333333,
             "#9c179e"
            ],
            [
             0.4444444444444444,
             "#bd3786"
            ],
            [
             0.5555555555555556,
             "#d8576b"
            ],
            [
             0.6666666666666666,
             "#ed7953"
            ],
            [
             0.7777777777777778,
             "#fb9f3a"
            ],
            [
             0.8888888888888888,
             "#fdca26"
            ],
            [
             1,
             "#f0f921"
            ]
           ]
          },
          "colorway": [
           "#636efa",
           "#EF553B",
           "#00cc96",
           "#ab63fa",
           "#FFA15A",
           "#19d3f3",
           "#FF6692",
           "#B6E880",
           "#FF97FF",
           "#FECB52"
          ],
          "font": {
           "color": "#2a3f5f"
          },
          "geo": {
           "bgcolor": "white",
           "lakecolor": "white",
           "landcolor": "#E5ECF6",
           "showlakes": true,
           "showland": true,
           "subunitcolor": "white"
          },
          "hoverlabel": {
           "align": "left"
          },
          "hovermode": "closest",
          "mapbox": {
           "style": "light"
          },
          "paper_bgcolor": "white",
          "plot_bgcolor": "#E5ECF6",
          "polar": {
           "angularaxis": {
            "gridcolor": "white",
            "linecolor": "white",
            "ticks": ""
           },
           "bgcolor": "#E5ECF6",
           "radialaxis": {
            "gridcolor": "white",
            "linecolor": "white",
            "ticks": ""
           }
          },
          "scene": {
           "xaxis": {
            "backgroundcolor": "#E5ECF6",
            "gridcolor": "white",
            "gridwidth": 2,
            "linecolor": "white",
            "showbackground": true,
            "ticks": "",
            "zerolinecolor": "white"
           },
           "yaxis": {
            "backgroundcolor": "#E5ECF6",
            "gridcolor": "white",
            "gridwidth": 2,
            "linecolor": "white",
            "showbackground": true,
            "ticks": "",
            "zerolinecolor": "white"
           },
           "zaxis": {
            "backgroundcolor": "#E5ECF6",
            "gridcolor": "white",
            "gridwidth": 2,
            "linecolor": "white",
            "showbackground": true,
            "ticks": "",
            "zerolinecolor": "white"
           }
          },
          "shapedefaults": {
           "line": {
            "color": "#2a3f5f"
           }
          },
          "ternary": {
           "aaxis": {
            "gridcolor": "white",
            "linecolor": "white",
            "ticks": ""
           },
           "baxis": {
            "gridcolor": "white",
            "linecolor": "white",
            "ticks": ""
           },
           "bgcolor": "#E5ECF6",
           "caxis": {
            "gridcolor": "white",
            "linecolor": "white",
            "ticks": ""
           }
          },
          "title": {
           "x": 0.05
          },
          "xaxis": {
           "automargin": true,
           "gridcolor": "white",
           "linecolor": "white",
           "ticks": "",
           "title": {
            "standoff": 15
           },
           "zerolinecolor": "white",
           "zerolinewidth": 2
          },
          "yaxis": {
           "automargin": true,
           "gridcolor": "white",
           "linecolor": "white",
           "ticks": "",
           "title": {
            "standoff": 15
           },
           "zerolinecolor": "white",
           "zerolinewidth": 2
          }
         }
        },
        "width": 600,
        "xaxis": {
         "anchor": "y",
         "domain": [
          0,
          1
         ],
         "title": {
          "text": "x"
         },
         "visible": false
        },
        "yaxis": {
         "anchor": "x",
         "domain": [
          0,
          1
         ],
         "scaleanchor": "x",
         "scaleratio": 0.95,
         "title": {
          "text": "y"
         },
         "visible": false
        }
       }
      }
     },
     "metadata": {},
     "output_type": "display_data"
    }
   ],
   "source": [
    "# Create the scatter plot\n",
    "fig = px.scatter(bubble_df, x=\"x\", y=\"y\", custom_data=[\"l\", \"rank\", \"k\"], color=\"rank\", width=600, height=500,\n",
    "                 size=\"s\", hover_name=\"l\", size_max=70, text=\"l\",\n",
    "                 color_continuous_scale=pal_vi, opacity=0.95)\n",
    "\n",
    "# Update trace and layout settings\n",
    "fig.update_traces(\n",
    "    hovertemplate=\"%{customdata[0]}<br>%{customdata[2]}\",\n",
    "    texttemplate=\"<b style='letter-spacing: 0.25px;text-transform:uppercase;font-family:Roboto Condensed;'>%{customdata[0]}</b><br>%{customdata[2]}\",\n",
    "    textfont_color=font_colors,\n",
    "    textfont_size=font_size\n",
    ")\n",
    "\n",
    "fig.update_layout(\n",
    "    showlegend=False, coloraxis_showscale=False, xaxis_visible=False, yaxis_visible=False,\n",
    "    yaxis_scaleanchor=\"x\", yaxis_scaleratio=0.95, plot_bgcolor='rgba(0, 0, 0, 0)', paper_bgcolor='rgba(0, 0, 0, 0)',\n",
    "    #title={'text': \"<b>NBA Player Background</b>\", 'y': 0.97, 'x': 0.5, 'xanchor': 'center', 'yanchor': 'top'},\n",
    "    font=dict(\n",
    "        family=\"Roboto\",\n",
    "        size=12,\n",
    "        color=\"black\"\n",
    "    )\n",
    ")\n",
    "\n",
    "fig.show()"
   ]
  },
  {
   "cell_type": "markdown",
   "metadata": {},
   "source": [
    "----"
   ]
  },
  {
   "cell_type": "markdown",
   "metadata": {},
   "source": [
    "### Team Player Dashboard"
   ]
  },
  {
   "cell_type": "code",
   "execution_count": null,
   "metadata": {},
   "outputs": [],
   "source": [
    "# Fetch team player dashboard data\n",
    "all_team_headlines = []\n",
    "all_player_headlines = []\n",
    "\n",
    "for team_id in all_nba_teams:\n",
    "    team_dashboard = TeamPlayerDashboard(\n",
    "        team_id=team_id,\n",
    "        season=\"2023-24\",\n",
    "        league_id_nullable='00'\n",
    "    )\n",
    "    all_team_headlines.append(team_dashboard.get_data_frames()[0])\n",
    "    all_player_headlines.append(team_dashboard.get_data_frames()[1])"
   ]
  },
  {
   "cell_type": "code",
   "execution_count": null,
   "metadata": {},
   "outputs": [],
   "source": [
    "team_info_df = pd.concat(all_team_headlines, ignore_index=True)\n",
    "team_players_info_df = pd.concat(all_player_headlines, ignore_index=True)\n",
    "\n",
    "team_info_df = team_info_df[['TEAM_ID', 'TEAM_NAME', 'GROUP_VALUE', 'GP', 'FGM', 'FGA', 'FG3M',\n",
    "                             'FG3A', 'FTM', 'FTA', 'OREB', 'DREB', 'REB', 'AST', 'TOV', 'STL', 'BLK', 'PF', 'PTS', 'PLUS_MINUS']]\n",
    "team_info_df = team_info_df.rename(\n",
    "    columns={'GP': 'GP_TEAM', 'FGM': 'FGM_TEAM', 'FGA': 'FGA_TEAM', 'FTM': 'FTM_TEAM',\n",
    "             'FTA': 'FTA_TEAM', 'OREB': 'OREB_TEAM', 'DREB': 'DREB_TEAM', 'REB': 'REB_TEAM',\n",
    "             'AST': 'AST_TEAM', 'TOV': 'TOV_TEAM', 'STL': 'STL_TEAM', 'BLK': 'BLK_TEAM',\n",
    "             'PTS': 'PTS_TEAM', 'PF': 'PF_TEAM', 'FG3M': 'FG3M_TEAM', 'FG3A': 'FG3A_TEAM'}\n",
    ")"
   ]
  },
  {
   "cell_type": "code",
   "execution_count": null,
   "metadata": {},
   "outputs": [],
   "source": [
    "#team_info_df.to_csv(\"data/team_dashboard.csv\", index=False)\n",
    "#team_players_info_df.to_csv(\"data/team_player_dashboard.csv\", index=False)\n",
    "# team_players_info_df = pd.read_csv(\"data/team_player_dashboard.csv\")\n",
    "# team_info_df = pd.read_csv(\"data/team_dashboard.csv\")"
   ]
  },
  {
   "cell_type": "code",
   "execution_count": null,
   "metadata": {
    "tags": [
     "hide-code"
    ]
   },
   "outputs": [],
   "source": [
    "# Identify and resolve duplicates based on most games played (GP)\n",
    "team_players_info_df['GP'] = team_players_info_df['GP'].astype(int)\n",
    "team_players_info_df = team_players_info_df.loc[team_players_info_df.groupby('PLAYER_ID')['GP'].idxmax()]"
   ]
  },
  {
   "cell_type": "code",
   "execution_count": null,
   "metadata": {},
   "outputs": [],
   "source": [
    "# Join with previous dataset all_players_info_df on PLAYER_ID\n",
    "merged_df = pd.merge(all_players_info_df, team_players_info_df, on='PLAYER_ID', how='inner')"
   ]
  },
  {
   "cell_type": "code",
   "execution_count": null,
   "metadata": {},
   "outputs": [
    {
     "data": {
      "text/html": [
       "<div>\n",
       "<style scoped>\n",
       "    .dataframe tbody tr th:only-of-type {\n",
       "        vertical-align: middle;\n",
       "    }\n",
       "\n",
       "    .dataframe tbody tr th {\n",
       "        vertical-align: top;\n",
       "    }\n",
       "\n",
       "    .dataframe thead th {\n",
       "        text-align: right;\n",
       "    }\n",
       "</style>\n",
       "<table border=\"1\" class=\"dataframe\">\n",
       "  <thead>\n",
       "    <tr style=\"text-align: right;\">\n",
       "      <th></th>\n",
       "      <th>TEAM_ID</th>\n",
       "      <th>SEASON</th>\n",
       "      <th>PLAYER_ID</th>\n",
       "      <th>PLAYER</th>\n",
       "      <th>GP</th>\n",
       "      <th>W</th>\n",
       "      <th>L</th>\n",
       "      <th>MIN</th>\n",
       "      <th>FGM</th>\n",
       "      <th>FGA</th>\n",
       "      <th>...</th>\n",
       "      <th>PLUS_MINUS</th>\n",
       "      <th>NBA_FANTASY_PTS</th>\n",
       "      <th>POSITION</th>\n",
       "      <th>HEIGHT</th>\n",
       "      <th>WEIGHT</th>\n",
       "      <th>BIRTH_DATE</th>\n",
       "      <th>AGE</th>\n",
       "      <th>EXP</th>\n",
       "      <th>SCHOOL</th>\n",
       "      <th>HOW_ACQUIRED</th>\n",
       "    </tr>\n",
       "  </thead>\n",
       "  <tbody>\n",
       "    <tr>\n",
       "      <th>0</th>\n",
       "      <td>1610612737</td>\n",
       "      <td>2023</td>\n",
       "      <td>1630552</td>\n",
       "      <td>Jalen Johnson</td>\n",
       "      <td>56</td>\n",
       "      <td>27</td>\n",
       "      <td>29</td>\n",
       "      <td>1888.866667</td>\n",
       "      <td>359</td>\n",
       "      <td>702</td>\n",
       "      <td>...</td>\n",
       "      <td>-76</td>\n",
       "      <td>2027.1</td>\n",
       "      <td>F</td>\n",
       "      <td>6-8</td>\n",
       "      <td>219</td>\n",
       "      <td>DEC 18, 2001</td>\n",
       "      <td>22.0</td>\n",
       "      <td>2</td>\n",
       "      <td>Duke</td>\n",
       "      <td>#20 Pick in 2021 Draft</td>\n",
       "    </tr>\n",
       "    <tr>\n",
       "      <th>1</th>\n",
       "      <td>1610612737</td>\n",
       "      <td>2023</td>\n",
       "      <td>1630235</td>\n",
       "      <td>Trent Forrest</td>\n",
       "      <td>38</td>\n",
       "      <td>18</td>\n",
       "      <td>20</td>\n",
       "      <td>413.761667</td>\n",
       "      <td>34</td>\n",
       "      <td>90</td>\n",
       "      <td>...</td>\n",
       "      <td>-94</td>\n",
       "      <td>304.2</td>\n",
       "      <td>G</td>\n",
       "      <td>6-4</td>\n",
       "      <td>210</td>\n",
       "      <td>JUN 12, 1998</td>\n",
       "      <td>26.0</td>\n",
       "      <td>3</td>\n",
       "      <td>Florida State</td>\n",
       "      <td>None</td>\n",
       "    </tr>\n",
       "    <tr>\n",
       "      <th>2</th>\n",
       "      <td>1610612737</td>\n",
       "      <td>2023</td>\n",
       "      <td>1641754</td>\n",
       "      <td>Seth Lundy</td>\n",
       "      <td>9</td>\n",
       "      <td>2</td>\n",
       "      <td>7</td>\n",
       "      <td>51.983333</td>\n",
       "      <td>4</td>\n",
       "      <td>17</td>\n",
       "      <td>...</td>\n",
       "      <td>-13</td>\n",
       "      <td>21.4</td>\n",
       "      <td>G-F</td>\n",
       "      <td>6-4</td>\n",
       "      <td>220</td>\n",
       "      <td>APR 02, 2000</td>\n",
       "      <td>24.0</td>\n",
       "      <td>R</td>\n",
       "      <td>Penn State</td>\n",
       "      <td>#46 Pick in 2023 Draft</td>\n",
       "    </tr>\n",
       "    <tr>\n",
       "      <th>3</th>\n",
       "      <td>1610612737</td>\n",
       "      <td>2023</td>\n",
       "      <td>1641723</td>\n",
       "      <td>Kobe Bufkin</td>\n",
       "      <td>17</td>\n",
       "      <td>8</td>\n",
       "      <td>9</td>\n",
       "      <td>196.003333</td>\n",
       "      <td>34</td>\n",
       "      <td>92</td>\n",
       "      <td>...</td>\n",
       "      <td>-35</td>\n",
       "      <td>187.1</td>\n",
       "      <td>G</td>\n",
       "      <td>6-5</td>\n",
       "      <td>195</td>\n",
       "      <td>SEP 21, 2003</td>\n",
       "      <td>20.0</td>\n",
       "      <td>R</td>\n",
       "      <td>Michigan</td>\n",
       "      <td>#15 Pick in 2023 Draft</td>\n",
       "    </tr>\n",
       "    <tr>\n",
       "      <th>4</th>\n",
       "      <td>1610612737</td>\n",
       "      <td>2023</td>\n",
       "      <td>1627749</td>\n",
       "      <td>Dejounte Murray</td>\n",
       "      <td>78</td>\n",
       "      <td>34</td>\n",
       "      <td>44</td>\n",
       "      <td>2783.343333</td>\n",
       "      <td>672</td>\n",
       "      <td>1463</td>\n",
       "      <td>...</td>\n",
       "      <td>-154</td>\n",
       "      <td>3209.2</td>\n",
       "      <td>G</td>\n",
       "      <td>6-5</td>\n",
       "      <td>180</td>\n",
       "      <td>SEP 19, 1996</td>\n",
       "      <td>27.0</td>\n",
       "      <td>6</td>\n",
       "      <td>Washington</td>\n",
       "      <td>None</td>\n",
       "    </tr>\n",
       "  </tbody>\n",
       "</table>\n",
       "<p>5 rows × 33 columns</p>\n",
       "</div>"
      ],
      "text/plain": [
       "      TEAM_ID SEASON  PLAYER_ID           PLAYER  GP   W   L          MIN  \\\n",
       "0  1610612737   2023    1630552    Jalen Johnson  56  27  29  1888.866667   \n",
       "1  1610612737   2023    1630235    Trent Forrest  38  18  20   413.761667   \n",
       "2  1610612737   2023    1641754       Seth Lundy   9   2   7    51.983333   \n",
       "3  1610612737   2023    1641723      Kobe Bufkin  17   8   9   196.003333   \n",
       "4  1610612737   2023    1627749  Dejounte Murray  78  34  44  2783.343333   \n",
       "\n",
       "   FGM   FGA  ...  PLUS_MINUS  NBA_FANTASY_PTS  POSITION  HEIGHT  WEIGHT  \\\n",
       "0  359   702  ...         -76           2027.1         F     6-8     219   \n",
       "1   34    90  ...         -94            304.2         G     6-4     210   \n",
       "2    4    17  ...         -13             21.4       G-F     6-4     220   \n",
       "3   34    92  ...         -35            187.1         G     6-5     195   \n",
       "4  672  1463  ...        -154           3209.2         G     6-5     180   \n",
       "\n",
       "     BIRTH_DATE   AGE  EXP         SCHOOL            HOW_ACQUIRED  \n",
       "0  DEC 18, 2001  22.0    2           Duke  #20 Pick in 2021 Draft  \n",
       "1  JUN 12, 1998  26.0    3  Florida State                    None  \n",
       "2  APR 02, 2000  24.0    R     Penn State  #46 Pick in 2023 Draft  \n",
       "3  SEP 21, 2003  20.0    R       Michigan  #15 Pick in 2023 Draft  \n",
       "4  SEP 19, 1996  27.0    6     Washington                    None  \n",
       "\n",
       "[5 rows x 33 columns]"
      ]
     },
     "execution_count": 17,
     "metadata": {},
     "output_type": "execute_result"
    }
   ],
   "source": [
    "merged_df = merged_df.rename(columns={'TeamID': 'TEAM_ID'})\n",
    "merged_df = merged_df[[\n",
    "    'TEAM_ID', 'SEASON', 'PLAYER_ID', 'PLAYER', 'GP', 'W', 'L', 'MIN', 'FGM', 'FGA',\n",
    "    'FG3M', 'FG3A', 'FTM', 'FTA', 'OREB', 'DREB', 'REB',\n",
    "    'AST', 'TOV', 'STL', 'BLK', 'PF', 'PTS', 'PLUS_MINUS',\n",
    "    'NBA_FANTASY_PTS', 'POSITION', 'HEIGHT', 'WEIGHT', 'BIRTH_DATE', 'AGE',\n",
    "    'EXP', 'SCHOOL', 'HOW_ACQUIRED'\n",
    "]]\n",
    "merged_df.head()"
   ]
  },
  {
   "cell_type": "markdown",
   "metadata": {},
   "source": [
    "------\n",
    "\n",
    "## Player Statistics"
   ]
  },
  {
   "cell_type": "code",
   "execution_count": null,
   "metadata": {},
   "outputs": [],
   "source": [
    "merged_df2 = pd.merge(merged_df, team_info_df, on='TEAM_ID', how='inner')"
   ]
  },
  {
   "cell_type": "code",
   "execution_count": null,
   "metadata": {
    "tags": [
     "hide-code"
    ]
   },
   "outputs": [],
   "source": [
    "merged_df2 = merged_df2[[ 'SEASON', \n",
    "'PLAYER_ID', 'PLAYER', 'GP', 'W', 'L', 'MIN',\n",
    "       'FGM', 'FGA', 'FG3M', 'FG3A', 'FTM', 'FTA', 'OREB', 'DREB', 'REB',\n",
    "       'AST', 'TOV', 'STL', 'BLK', 'PF', 'PTS', 'PLUS_MINUS_x',\n",
    "       'NBA_FANTASY_PTS', 'POSITION', 'HEIGHT', 'WEIGHT', 'BIRTH_DATE', 'AGE',\n",
    "       'EXP', 'SCHOOL', 'HOW_ACQUIRED', \n",
    "       'TEAM_ID', 'TEAM_NAME',\n",
    "       'GP_TEAM',\n",
    "       'FGM_TEAM', 'FGA_TEAM', 'FG3M_TEAM', 'FG3A_TEAM', 'FTM_TEAM',\n",
    "       'FTA_TEAM', 'OREB_TEAM', 'DREB_TEAM', 'REB_TEAM', 'AST_TEAM',\n",
    "       'TOV_TEAM', 'STL_TEAM', 'BLK_TEAM', 'PF_TEAM', 'PTS_TEAM',\n",
    "       'PLUS_MINUS_y']]\n"
   ]
  },
  {
   "cell_type": "markdown",
   "metadata": {},
   "source": [
    "### Points Per Game"
   ]
  },
  {
   "cell_type": "code",
   "execution_count": null,
   "metadata": {},
   "outputs": [],
   "source": [
    "# Calculate PPG\n",
    "merged_df2['PPG'] = merged_df2['PTS'] / merged_df2['GP']"
   ]
  },
  {
   "cell_type": "markdown",
   "metadata": {},
   "source": [
    "### Player Impact Estimate (PIE) score\n",
    "\n",
    "\n",
    "\n"
   ]
  },
  {
   "cell_type": "markdown",
   "metadata": {},
   "source": [
    "The Player Impact Estimate (PIE) is a comprehensive metric that estimates a player's overall statistical contribution against the total statistics in games they play. The NBA's official definition of PIE is:\n",
    "\n",
    "$\n",
    "\\text{PIE} = \\frac{\\text{Player's Stats} + \\text{Team's Stats} - \\text{Opponent's Stats}}{\\text{Team's Total Stats} + \\text{Opponent's Total Stats}}\n",
    "$\n",
    "\n",
    "<div class = \"mycode\">\n",
    "\n",
    "1. **Player's Stats**: Include points, field goals made, field goals attempted, free throws made, free throws attempted, offensive rebounds, defensive rebounds, assists, steals, blocks, turnovers, and personal fouls.\n",
    "2. **Team's Stats**: Sum of all players' stats on the team.\n",
    "3. **Opponent's Stats**: Sum of all players' stats on the opponent team.\n",
    "4. **Team's Total Stats**: Total of all the team stats, including points, field goals, free throws, rebounds, assists, steals, blocks, turnovers, and fouls.\n",
    "5. **Opponent's Total Stats**: Same as above, but for the opponent team.\n",
    "\n",
    "</div>\n",
    "\n",
    "The formula is: $\\text{PIE} = \\frac{\\text{PTS} + \\text{FGM} + \\text{FTM} - \\text{FGA} - \\text{FTA} + \\text{OREB} + \\text{DREB} + \\text{AST} + \\text{STL} + \\text{BLK} - \\text{TO} - \\text{PF}}{\\text{Team's Total Stats} + \\text{Opponent's Total Stats}}$\n",
    "\n"
   ]
  },
  {
   "cell_type": "markdown",
   "metadata": {},
   "source": [
    "(PTS + FGM + FTM - FGA - FTA + DREB + (.5 * OREB) + AST + STL + (.5 * BLK) - PF - TO) / (GmPTS + GmFGM + GmFTM - GmFGA - GmFTA + GmDREB + (.5 * GmOREB) + GmAST + GmSTL + (.5 * GmBLK) - GmPF - GmTO)"
   ]
  },
  {
   "cell_type": "code",
   "execution_count": null,
   "metadata": {},
   "outputs": [],
   "source": [
    "# Fetch pace data\n",
    "def fetch_pace_data(season):\n",
    "    team_stats = leaguedashteamstats.LeagueDashTeamStats(season=season, measure_type_detailed_defense='Advanced')\n",
    "    team_data = team_stats.get_data_frames()[0]\n",
    "    pace_data = team_data[['TEAM_ID', 'PACE']]\n",
    "    league_pace = pace_data['PACE'].mean()\n",
    "    return pace_data, league_pace\n",
    "\n",
    "team_pace_data, league_pace = fetch_pace_data(season='2023-24')\n"
   ]
  },
  {
   "cell_type": "code",
   "execution_count": null,
   "metadata": {},
   "outputs": [],
   "source": [
    "merged_df3 = pd.merge(merged_df2, team_pace_data, on='TEAM_ID', how='inner')"
   ]
  },
  {
   "cell_type": "markdown",
   "metadata": {},
   "source": [
    "------\n",
    "\n",
    "### PER\n",
    "\n",
    "\n",
    "Functions for Calculating PER Variants:\n",
    "\n",
    "\n",
    "- calculate_uPER: Calculates the unadjusted Player Efficiency Rating (uPER) using basic player statistics such as points, rebounds, assists, turnovers, and games played.\n",
    "- calculate_aPER: Adjusts uPER based on the team's pace relative to the league average, yielding the adjusted PER (aPER).\n",
    "- calculate_nPER: Normalizes aPER so that the league average is set to a constant value of 15, resulting in the normalized PER (nPER)."
   ]
  },
  {
   "cell_type": "code",
   "execution_count": null,
   "metadata": {},
   "outputs": [],
   "source": [
    "# Calculate PER\n",
    "def calculate_PER(df, league_pace):\n",
    "    df['REB'] = df['OREB'] + df['DREB']\n",
    "    df['uPER'] = (df['PTS'] + df['REB'] + df['AST'] + df['STL'] + df['BLK'] - \n",
    "                  (df['FGA'] - df['FGM']) - (df['FTA'] - df['FTM']) - df['TOV']) / df['GP']\n",
    "    df['aPER'] = df['uPER'] * (league_pace / df['PACE'])\n",
    "    league_average_aPER = df['aPER'].mean(skipna=True)\n",
    "    df['nPER'] = df['aPER'] * (15 / league_average_aPER)\n",
    "    return df"
   ]
  },
  {
   "cell_type": "code",
   "execution_count": null,
   "metadata": {},
   "outputs": [],
   "source": [
    "merged_df3 = calculate_PER(merged_df3, league_pace)"
   ]
  },
  {
   "cell_type": "code",
   "execution_count": null,
   "metadata": {},
   "outputs": [
    {
     "name": "stdout",
     "output_type": "stream",
     "text": [
      "Top Players Based on nPER:\n"
     ]
    },
    {
     "data": {
      "text/html": [
       "<div>\n",
       "<style scoped>\n",
       "    .dataframe tbody tr th:only-of-type {\n",
       "        vertical-align: middle;\n",
       "    }\n",
       "\n",
       "    .dataframe tbody tr th {\n",
       "        vertical-align: top;\n",
       "    }\n",
       "\n",
       "    .dataframe thead th {\n",
       "        text-align: right;\n",
       "    }\n",
       "</style>\n",
       "<table border=\"1\" class=\"dataframe\">\n",
       "  <thead>\n",
       "    <tr style=\"text-align: right;\">\n",
       "      <th></th>\n",
       "      <th>PLAYER</th>\n",
       "      <th>SCHOOL</th>\n",
       "      <th>PPG</th>\n",
       "      <th>nPER</th>\n",
       "    </tr>\n",
       "  </thead>\n",
       "  <tbody>\n",
       "    <tr>\n",
       "      <th>0</th>\n",
       "      <td>Nikola Jokić</td>\n",
       "      <td>Mega Basket</td>\n",
       "      <td>26.392405</td>\n",
       "      <td>55.862284</td>\n",
       "    </tr>\n",
       "    <tr>\n",
       "      <th>1</th>\n",
       "      <td>Joel Embiid</td>\n",
       "      <td>Kansas</td>\n",
       "      <td>34.692308</td>\n",
       "      <td>55.800917</td>\n",
       "    </tr>\n",
       "    <tr>\n",
       "      <th>2</th>\n",
       "      <td>Luka Dončić</td>\n",
       "      <td>Real Madrid</td>\n",
       "      <td>33.857143</td>\n",
       "      <td>51.835999</td>\n",
       "    </tr>\n",
       "    <tr>\n",
       "      <th>3</th>\n",
       "      <td>Giannis Antetokounmpo</td>\n",
       "      <td>Filathlitikos</td>\n",
       "      <td>30.438356</td>\n",
       "      <td>51.196489</td>\n",
       "    </tr>\n",
       "    <tr>\n",
       "      <th>4</th>\n",
       "      <td>Anthony Davis</td>\n",
       "      <td>Kentucky</td>\n",
       "      <td>24.684211</td>\n",
       "      <td>46.788738</td>\n",
       "    </tr>\n",
       "    <tr>\n",
       "      <th>5</th>\n",
       "      <td>Domantas Sabonis</td>\n",
       "      <td>Gonzaga</td>\n",
       "      <td>19.426829</td>\n",
       "      <td>46.474871</td>\n",
       "    </tr>\n",
       "    <tr>\n",
       "      <th>6</th>\n",
       "      <td>Shai Gilgeous-Alexander</td>\n",
       "      <td>Kentucky</td>\n",
       "      <td>30.053333</td>\n",
       "      <td>45.192623</td>\n",
       "    </tr>\n",
       "    <tr>\n",
       "      <th>7</th>\n",
       "      <td>LeBron James</td>\n",
       "      <td>St. Vincent-St. Mary HS (OH)</td>\n",
       "      <td>25.661972</td>\n",
       "      <td>41.788849</td>\n",
       "    </tr>\n",
       "    <tr>\n",
       "      <th>8</th>\n",
       "      <td>Jayson Tatum</td>\n",
       "      <td>Duke</td>\n",
       "      <td>26.851351</td>\n",
       "      <td>39.905425</td>\n",
       "    </tr>\n",
       "    <tr>\n",
       "      <th>9</th>\n",
       "      <td>Kevin Durant</td>\n",
       "      <td>Texas</td>\n",
       "      <td>27.093333</td>\n",
       "      <td>39.539341</td>\n",
       "    </tr>\n",
       "    <tr>\n",
       "      <th>10</th>\n",
       "      <td>Devin Booker</td>\n",
       "      <td>Kentucky</td>\n",
       "      <td>27.073529</td>\n",
       "      <td>38.187269</td>\n",
       "    </tr>\n",
       "    <tr>\n",
       "      <th>11</th>\n",
       "      <td>Jalen Brunson</td>\n",
       "      <td>Villanova</td>\n",
       "      <td>28.727273</td>\n",
       "      <td>37.760152</td>\n",
       "    </tr>\n",
       "    <tr>\n",
       "      <th>12</th>\n",
       "      <td>Victor Wembanyama</td>\n",
       "      <td>Metropolitans 92</td>\n",
       "      <td>21.436620</td>\n",
       "      <td>37.642715</td>\n",
       "    </tr>\n",
       "    <tr>\n",
       "      <th>13</th>\n",
       "      <td>Donovan Mitchell</td>\n",
       "      <td>Louisville</td>\n",
       "      <td>26.600000</td>\n",
       "      <td>37.524618</td>\n",
       "    </tr>\n",
       "    <tr>\n",
       "      <th>14</th>\n",
       "      <td>Ja Morant</td>\n",
       "      <td>Murray State</td>\n",
       "      <td>25.111111</td>\n",
       "      <td>36.959333</td>\n",
       "    </tr>\n",
       "    <tr>\n",
       "      <th>15</th>\n",
       "      <td>Kawhi Leonard</td>\n",
       "      <td>San Diego State</td>\n",
       "      <td>23.720588</td>\n",
       "      <td>36.947299</td>\n",
       "    </tr>\n",
       "    <tr>\n",
       "      <th>16</th>\n",
       "      <td>Alperen Sengun</td>\n",
       "      <td>Besiktas</td>\n",
       "      <td>21.126984</td>\n",
       "      <td>36.734369</td>\n",
       "    </tr>\n",
       "    <tr>\n",
       "      <th>17</th>\n",
       "      <td>Bam Adebayo</td>\n",
       "      <td>Kentucky</td>\n",
       "      <td>19.253521</td>\n",
       "      <td>36.715845</td>\n",
       "    </tr>\n",
       "    <tr>\n",
       "      <th>18</th>\n",
       "      <td>Jarrett Allen</td>\n",
       "      <td>Texas</td>\n",
       "      <td>16.506494</td>\n",
       "      <td>36.214569</td>\n",
       "    </tr>\n",
       "    <tr>\n",
       "      <th>19</th>\n",
       "      <td>Tyrese Haliburton</td>\n",
       "      <td>Iowa State</td>\n",
       "      <td>20.130435</td>\n",
       "      <td>36.188746</td>\n",
       "    </tr>\n",
       "    <tr>\n",
       "      <th>20</th>\n",
       "      <td>Julius Randle</td>\n",
       "      <td>Kentucky</td>\n",
       "      <td>23.956522</td>\n",
       "      <td>36.058880</td>\n",
       "    </tr>\n",
       "    <tr>\n",
       "      <th>21</th>\n",
       "      <td>Rudy Gobert</td>\n",
       "      <td>Cholet</td>\n",
       "      <td>13.960526</td>\n",
       "      <td>36.018107</td>\n",
       "    </tr>\n",
       "    <tr>\n",
       "      <th>22</th>\n",
       "      <td>Kyrie Irving</td>\n",
       "      <td>Duke</td>\n",
       "      <td>25.637931</td>\n",
       "      <td>35.960272</td>\n",
       "    </tr>\n",
       "    <tr>\n",
       "      <th>23</th>\n",
       "      <td>Scottie Barnes</td>\n",
       "      <td>Florida State</td>\n",
       "      <td>19.850000</td>\n",
       "      <td>35.308492</td>\n",
       "    </tr>\n",
       "    <tr>\n",
       "      <th>24</th>\n",
       "      <td>Trae Young</td>\n",
       "      <td>Oklahoma</td>\n",
       "      <td>25.722222</td>\n",
       "      <td>34.686658</td>\n",
       "    </tr>\n",
       "    <tr>\n",
       "      <th>25</th>\n",
       "      <td>Lauri Markkanen</td>\n",
       "      <td>Arizona</td>\n",
       "      <td>23.236364</td>\n",
       "      <td>34.509580</td>\n",
       "    </tr>\n",
       "    <tr>\n",
       "      <th>26</th>\n",
       "      <td>DeMar DeRozan</td>\n",
       "      <td>Southern California</td>\n",
       "      <td>24.012658</td>\n",
       "      <td>34.418389</td>\n",
       "    </tr>\n",
       "    <tr>\n",
       "      <th>27</th>\n",
       "      <td>LaMelo Ball</td>\n",
       "      <td>Illawarra</td>\n",
       "      <td>23.909091</td>\n",
       "      <td>34.321981</td>\n",
       "    </tr>\n",
       "    <tr>\n",
       "      <th>28</th>\n",
       "      <td>Zion Williamson</td>\n",
       "      <td>Duke</td>\n",
       "      <td>22.871429</td>\n",
       "      <td>34.239614</td>\n",
       "    </tr>\n",
       "    <tr>\n",
       "      <th>29</th>\n",
       "      <td>Tyrese Maxey</td>\n",
       "      <td>Kentucky</td>\n",
       "      <td>25.942857</td>\n",
       "      <td>34.218579</td>\n",
       "    </tr>\n",
       "    <tr>\n",
       "      <th>30</th>\n",
       "      <td>Anthony Edwards</td>\n",
       "      <td>Georgia</td>\n",
       "      <td>25.936709</td>\n",
       "      <td>34.119221</td>\n",
       "    </tr>\n",
       "    <tr>\n",
       "      <th>31</th>\n",
       "      <td>De'Aaron Fox</td>\n",
       "      <td>Kentucky</td>\n",
       "      <td>26.567568</td>\n",
       "      <td>34.044438</td>\n",
       "    </tr>\n",
       "    <tr>\n",
       "      <th>32</th>\n",
       "      <td>Nikola Vučević</td>\n",
       "      <td>Southern California</td>\n",
       "      <td>18.026316</td>\n",
       "      <td>33.933427</td>\n",
       "    </tr>\n",
       "    <tr>\n",
       "      <th>33</th>\n",
       "      <td>Jimmy Butler</td>\n",
       "      <td>Marquette</td>\n",
       "      <td>20.766667</td>\n",
       "      <td>33.930103</td>\n",
       "    </tr>\n",
       "    <tr>\n",
       "      <th>34</th>\n",
       "      <td>Karl-Anthony Towns</td>\n",
       "      <td>Kentucky</td>\n",
       "      <td>21.758065</td>\n",
       "      <td>33.860164</td>\n",
       "    </tr>\n",
       "    <tr>\n",
       "      <th>35</th>\n",
       "      <td>Deandre Ayton</td>\n",
       "      <td>Arizona</td>\n",
       "      <td>16.727273</td>\n",
       "      <td>33.692960</td>\n",
       "    </tr>\n",
       "    <tr>\n",
       "      <th>36</th>\n",
       "      <td>Evan Mobley</td>\n",
       "      <td>Southern California</td>\n",
       "      <td>15.700000</td>\n",
       "      <td>33.595601</td>\n",
       "    </tr>\n",
       "    <tr>\n",
       "      <th>37</th>\n",
       "      <td>Kristaps Porziņģis</td>\n",
       "      <td>Cajasol Sevilla</td>\n",
       "      <td>20.087719</td>\n",
       "      <td>33.592244</td>\n",
       "    </tr>\n",
       "    <tr>\n",
       "      <th>38</th>\n",
       "      <td>Pascal Siakam</td>\n",
       "      <td>New Mexico State</td>\n",
       "      <td>21.268293</td>\n",
       "      <td>33.339586</td>\n",
       "    </tr>\n",
       "    <tr>\n",
       "      <th>39</th>\n",
       "      <td>Damian Lillard</td>\n",
       "      <td>Weber State</td>\n",
       "      <td>24.315068</td>\n",
       "      <td>33.224689</td>\n",
       "    </tr>\n",
       "    <tr>\n",
       "      <th>40</th>\n",
       "      <td>Stephen Curry</td>\n",
       "      <td>Davidson</td>\n",
       "      <td>26.432432</td>\n",
       "      <td>32.857718</td>\n",
       "    </tr>\n",
       "    <tr>\n",
       "      <th>41</th>\n",
       "      <td>James Harden</td>\n",
       "      <td>Arizona State</td>\n",
       "      <td>16.555556</td>\n",
       "      <td>32.346297</td>\n",
       "    </tr>\n",
       "    <tr>\n",
       "      <th>42</th>\n",
       "      <td>Jalen Duren</td>\n",
       "      <td>Memphis</td>\n",
       "      <td>13.786885</td>\n",
       "      <td>32.210852</td>\n",
       "    </tr>\n",
       "    <tr>\n",
       "      <th>43</th>\n",
       "      <td>Jamal Murray</td>\n",
       "      <td>Kentucky</td>\n",
       "      <td>21.186441</td>\n",
       "      <td>32.193694</td>\n",
       "    </tr>\n",
       "    <tr>\n",
       "      <th>44</th>\n",
       "      <td>Paul George</td>\n",
       "      <td>Fresno State</td>\n",
       "      <td>22.581081</td>\n",
       "      <td>31.960163</td>\n",
       "    </tr>\n",
       "  </tbody>\n",
       "</table>\n",
       "</div>"
      ],
      "text/plain": [
       "                     PLAYER                        SCHOOL        PPG  \\\n",
       "0              Nikola Jokić                   Mega Basket  26.392405   \n",
       "1               Joel Embiid                        Kansas  34.692308   \n",
       "2               Luka Dončić                   Real Madrid  33.857143   \n",
       "3     Giannis Antetokounmpo                 Filathlitikos  30.438356   \n",
       "4             Anthony Davis                      Kentucky  24.684211   \n",
       "5          Domantas Sabonis                       Gonzaga  19.426829   \n",
       "6   Shai Gilgeous-Alexander                      Kentucky  30.053333   \n",
       "7              LeBron James  St. Vincent-St. Mary HS (OH)  25.661972   \n",
       "8              Jayson Tatum                          Duke  26.851351   \n",
       "9              Kevin Durant                         Texas  27.093333   \n",
       "10             Devin Booker                      Kentucky  27.073529   \n",
       "11            Jalen Brunson                     Villanova  28.727273   \n",
       "12        Victor Wembanyama              Metropolitans 92  21.436620   \n",
       "13         Donovan Mitchell                    Louisville  26.600000   \n",
       "14                Ja Morant                  Murray State  25.111111   \n",
       "15            Kawhi Leonard               San Diego State  23.720588   \n",
       "16           Alperen Sengun                      Besiktas  21.126984   \n",
       "17              Bam Adebayo                      Kentucky  19.253521   \n",
       "18            Jarrett Allen                         Texas  16.506494   \n",
       "19        Tyrese Haliburton                    Iowa State  20.130435   \n",
       "20            Julius Randle                      Kentucky  23.956522   \n",
       "21              Rudy Gobert                        Cholet  13.960526   \n",
       "22             Kyrie Irving                          Duke  25.637931   \n",
       "23           Scottie Barnes                 Florida State  19.850000   \n",
       "24               Trae Young                      Oklahoma  25.722222   \n",
       "25          Lauri Markkanen                       Arizona  23.236364   \n",
       "26            DeMar DeRozan           Southern California  24.012658   \n",
       "27              LaMelo Ball                     Illawarra  23.909091   \n",
       "28          Zion Williamson                          Duke  22.871429   \n",
       "29             Tyrese Maxey                      Kentucky  25.942857   \n",
       "30          Anthony Edwards                       Georgia  25.936709   \n",
       "31             De'Aaron Fox                      Kentucky  26.567568   \n",
       "32           Nikola Vučević           Southern California  18.026316   \n",
       "33             Jimmy Butler                     Marquette  20.766667   \n",
       "34       Karl-Anthony Towns                      Kentucky  21.758065   \n",
       "35            Deandre Ayton                       Arizona  16.727273   \n",
       "36              Evan Mobley           Southern California  15.700000   \n",
       "37       Kristaps Porziņģis               Cajasol Sevilla  20.087719   \n",
       "38            Pascal Siakam              New Mexico State  21.268293   \n",
       "39           Damian Lillard                   Weber State  24.315068   \n",
       "40            Stephen Curry                      Davidson  26.432432   \n",
       "41             James Harden                 Arizona State  16.555556   \n",
       "42              Jalen Duren                       Memphis  13.786885   \n",
       "43             Jamal Murray                      Kentucky  21.186441   \n",
       "44              Paul George                  Fresno State  22.581081   \n",
       "\n",
       "         nPER  \n",
       "0   55.862284  \n",
       "1   55.800917  \n",
       "2   51.835999  \n",
       "3   51.196489  \n",
       "4   46.788738  \n",
       "5   46.474871  \n",
       "6   45.192623  \n",
       "7   41.788849  \n",
       "8   39.905425  \n",
       "9   39.539341  \n",
       "10  38.187269  \n",
       "11  37.760152  \n",
       "12  37.642715  \n",
       "13  37.524618  \n",
       "14  36.959333  \n",
       "15  36.947299  \n",
       "16  36.734369  \n",
       "17  36.715845  \n",
       "18  36.214569  \n",
       "19  36.188746  \n",
       "20  36.058880  \n",
       "21  36.018107  \n",
       "22  35.960272  \n",
       "23  35.308492  \n",
       "24  34.686658  \n",
       "25  34.509580  \n",
       "26  34.418389  \n",
       "27  34.321981  \n",
       "28  34.239614  \n",
       "29  34.218579  \n",
       "30  34.119221  \n",
       "31  34.044438  \n",
       "32  33.933427  \n",
       "33  33.930103  \n",
       "34  33.860164  \n",
       "35  33.692960  \n",
       "36  33.595601  \n",
       "37  33.592244  \n",
       "38  33.339586  \n",
       "39  33.224689  \n",
       "40  32.857718  \n",
       "41  32.346297  \n",
       "42  32.210852  \n",
       "43  32.193694  \n",
       "44  31.960163  "
      ]
     },
     "execution_count": 25,
     "metadata": {},
     "output_type": "execute_result"
    }
   ],
   "source": [
    "overall_rankings = merged_df3.sort_values(by='nPER', ascending=False)\n",
    "top_players = overall_rankings.head(45)\n",
    "\n",
    "print(\"Top Players Based on nPER:\")\n",
    "top_players[['PLAYER', 'SCHOOL', 'PPG', 'nPER']].reset_index(drop=True)"
   ]
  },
  {
   "cell_type": "code",
   "execution_count": null,
   "metadata": {},
   "outputs": [
    {
     "name": "stdout",
     "output_type": "stream",
     "text": [
      "                  SCHOOL  COUNT  AVG_PER  PER_WEIGHTED\n",
      "0               Kentucky     27   21.799        93.645\n",
      "1                   Duke     24   19.898        83.135\n",
      "6                Gonzaga     10   21.297        70.335\n",
      "38           Mega Basket      4   28.254        67.422\n",
      "7              Villanova     10   17.732        58.561\n",
      "12   Southern California      9   18.196        58.177\n",
      "11               Arizona      9   18.089        57.835\n",
      "51               Georgia      3   27.039        56.744\n",
      "15         Florida State      8   17.820        54.876\n",
      "14                 Texas      8   17.807        54.836\n",
      "45              Oklahoma      3   26.036        54.639\n",
      "26        Michigan State      6   19.187        53.565\n",
      "2                   UCLA     14   14.619        53.199\n",
      "173        Filathlitikos      1   51.196        51.196\n",
      "16       Louisiana State      8   16.448        50.651\n",
      "4                 Kansas     12   14.060        48.998\n",
      "37            Louisville      4   20.394        48.666\n",
      "34              Colorado      4   20.305        48.454\n",
      "5               Michigan     10   14.327        47.316\n",
      "41           Real Madrid      3   22.085        46.348\n"
     ]
    }
   ],
   "source": [
    "# Group by college\n",
    "avg_per_by_college = merged_df3.groupby('SCHOOL')['nPER'].mean().reset_index()\n",
    "avg_per_by_college.columns = ['SCHOOL', 'AVG_PER']\n",
    "avg_per_by_college['AVG_PER'] = avg_per_by_college['AVG_PER'].round(3)\n",
    "\n",
    "school_count = merged_df3['SCHOOL'].value_counts().reset_index()\n",
    "school_count.columns = ['SCHOOL', 'COUNT']\n",
    "\n",
    "avg_per_with_count = pd.merge(school_count, avg_per_by_college, on='SCHOOL')\n",
    "\n",
    "avg_per_with_count['PER_WEIGHTED'] = (np.log(avg_per_with_count['COUNT']) * avg_per_with_count['AVG_PER']) + avg_per_with_count['AVG_PER']\n",
    "avg_per_with_count['PER_WEIGHTED'] = avg_per_with_count['PER_WEIGHTED'].round(3)\n",
    "\n",
    "avg_per_with_count = avg_per_with_count.sort_values(by='PER_WEIGHTED', ascending=False)\n",
    "filtered_per_count = avg_per_with_count[avg_per_with_count['PER_WEIGHTED'] > 20]\n",
    "\n",
    "print(filtered_per_count.head(20))"
   ]
  },
  {
   "cell_type": "markdown",
   "metadata": {},
   "source": [
    "-----\n",
    "------"
   ]
  },
  {
   "cell_type": "markdown",
   "metadata": {},
   "source": [
    "-------"
   ]
  },
  {
   "cell_type": "code",
   "execution_count": null,
   "metadata": {},
   "outputs": [
    {
     "data": {
      "text/html": [
       "<div>\n",
       "<style scoped>\n",
       "    .dataframe tbody tr th:only-of-type {\n",
       "        vertical-align: middle;\n",
       "    }\n",
       "\n",
       "    .dataframe tbody tr th {\n",
       "        vertical-align: top;\n",
       "    }\n",
       "\n",
       "    .dataframe thead th {\n",
       "        text-align: right;\n",
       "    }\n",
       "</style>\n",
       "<table border=\"1\" class=\"dataframe\">\n",
       "  <thead>\n",
       "    <tr style=\"text-align: right;\">\n",
       "      <th></th>\n",
       "      <th>SEASON</th>\n",
       "      <th>PLAYER_ID</th>\n",
       "      <th>PLAYER</th>\n",
       "      <th>GP</th>\n",
       "      <th>W</th>\n",
       "      <th>L</th>\n",
       "      <th>MIN</th>\n",
       "      <th>FGM</th>\n",
       "      <th>FGA</th>\n",
       "      <th>FG3M</th>\n",
       "      <th>...</th>\n",
       "      <th>STL_TEAM</th>\n",
       "      <th>BLK_TEAM</th>\n",
       "      <th>PF_TEAM</th>\n",
       "      <th>PTS_TEAM</th>\n",
       "      <th>PLUS_MINUS_y</th>\n",
       "      <th>PPG</th>\n",
       "      <th>PACE</th>\n",
       "      <th>uPER</th>\n",
       "      <th>aPER</th>\n",
       "      <th>nPER</th>\n",
       "    </tr>\n",
       "  </thead>\n",
       "  <tbody>\n",
       "    <tr>\n",
       "      <th>0</th>\n",
       "      <td>2023</td>\n",
       "      <td>1630552</td>\n",
       "      <td>Jalen Johnson</td>\n",
       "      <td>56</td>\n",
       "      <td>27</td>\n",
       "      <td>29</td>\n",
       "      <td>1888.866667</td>\n",
       "      <td>359</td>\n",
       "      <td>702</td>\n",
       "      <td>71</td>\n",
       "      <td>...</td>\n",
       "      <td>615</td>\n",
       "      <td>369</td>\n",
       "      <td>1522</td>\n",
       "      <td>9703</td>\n",
       "      <td>-179.0</td>\n",
       "      <td>16.000000</td>\n",
       "      <td>100.84</td>\n",
       "      <td>21.732143</td>\n",
       "      <td>21.367857</td>\n",
       "      <td>30.491409</td>\n",
       "    </tr>\n",
       "    <tr>\n",
       "      <th>1</th>\n",
       "      <td>2023</td>\n",
       "      <td>1630235</td>\n",
       "      <td>Trent Forrest</td>\n",
       "      <td>38</td>\n",
       "      <td>18</td>\n",
       "      <td>20</td>\n",
       "      <td>413.761667</td>\n",
       "      <td>34</td>\n",
       "      <td>90</td>\n",
       "      <td>2</td>\n",
       "      <td>...</td>\n",
       "      <td>615</td>\n",
       "      <td>369</td>\n",
       "      <td>1522</td>\n",
       "      <td>9703</td>\n",
       "      <td>-179.0</td>\n",
       "      <td>2.184211</td>\n",
       "      <td>100.84</td>\n",
       "      <td>4.210526</td>\n",
       "      <td>4.139947</td>\n",
       "      <td>5.907603</td>\n",
       "    </tr>\n",
       "    <tr>\n",
       "      <th>2</th>\n",
       "      <td>2023</td>\n",
       "      <td>1641754</td>\n",
       "      <td>Seth Lundy</td>\n",
       "      <td>9</td>\n",
       "      <td>2</td>\n",
       "      <td>7</td>\n",
       "      <td>51.983333</td>\n",
       "      <td>4</td>\n",
       "      <td>17</td>\n",
       "      <td>3</td>\n",
       "      <td>...</td>\n",
       "      <td>615</td>\n",
       "      <td>369</td>\n",
       "      <td>1522</td>\n",
       "      <td>9703</td>\n",
       "      <td>-179.0</td>\n",
       "      <td>1.555556</td>\n",
       "      <td>100.84</td>\n",
       "      <td>0.666667</td>\n",
       "      <td>0.655492</td>\n",
       "      <td>0.935371</td>\n",
       "    </tr>\n",
       "    <tr>\n",
       "      <th>3</th>\n",
       "      <td>2023</td>\n",
       "      <td>1641723</td>\n",
       "      <td>Kobe Bufkin</td>\n",
       "      <td>17</td>\n",
       "      <td>8</td>\n",
       "      <td>9</td>\n",
       "      <td>196.003333</td>\n",
       "      <td>34</td>\n",
       "      <td>92</td>\n",
       "      <td>9</td>\n",
       "      <td>...</td>\n",
       "      <td>615</td>\n",
       "      <td>369</td>\n",
       "      <td>1522</td>\n",
       "      <td>9703</td>\n",
       "      <td>-179.0</td>\n",
       "      <td>4.764706</td>\n",
       "      <td>100.84</td>\n",
       "      <td>4.764706</td>\n",
       "      <td>4.684837</td>\n",
       "      <td>6.685148</td>\n",
       "    </tr>\n",
       "    <tr>\n",
       "      <th>4</th>\n",
       "      <td>2023</td>\n",
       "      <td>1627749</td>\n",
       "      <td>Dejounte Murray</td>\n",
       "      <td>78</td>\n",
       "      <td>34</td>\n",
       "      <td>44</td>\n",
       "      <td>2783.343333</td>\n",
       "      <td>672</td>\n",
       "      <td>1463</td>\n",
       "      <td>201</td>\n",
       "      <td>...</td>\n",
       "      <td>615</td>\n",
       "      <td>369</td>\n",
       "      <td>1522</td>\n",
       "      <td>9703</td>\n",
       "      <td>-179.0</td>\n",
       "      <td>22.474359</td>\n",
       "      <td>100.84</td>\n",
       "      <td>22.564103</td>\n",
       "      <td>22.185871</td>\n",
       "      <td>31.658695</td>\n",
       "    </tr>\n",
       "  </tbody>\n",
       "</table>\n",
       "<p>5 rows × 56 columns</p>\n",
       "</div>"
      ],
      "text/plain": [
       "  SEASON  PLAYER_ID           PLAYER  GP   W   L          MIN  FGM   FGA  \\\n",
       "0   2023    1630552    Jalen Johnson  56  27  29  1888.866667  359   702   \n",
       "1   2023    1630235    Trent Forrest  38  18  20   413.761667   34    90   \n",
       "2   2023    1641754       Seth Lundy   9   2   7    51.983333    4    17   \n",
       "3   2023    1641723      Kobe Bufkin  17   8   9   196.003333   34    92   \n",
       "4   2023    1627749  Dejounte Murray  78  34  44  2783.343333  672  1463   \n",
       "\n",
       "   FG3M  ...  STL_TEAM  BLK_TEAM  PF_TEAM  PTS_TEAM  PLUS_MINUS_y        PPG  \\\n",
       "0    71  ...       615       369     1522      9703        -179.0  16.000000   \n",
       "1     2  ...       615       369     1522      9703        -179.0   2.184211   \n",
       "2     3  ...       615       369     1522      9703        -179.0   1.555556   \n",
       "3     9  ...       615       369     1522      9703        -179.0   4.764706   \n",
       "4   201  ...       615       369     1522      9703        -179.0  22.474359   \n",
       "\n",
       "     PACE       uPER       aPER       nPER  \n",
       "0  100.84  21.732143  21.367857  30.491409  \n",
       "1  100.84   4.210526   4.139947   5.907603  \n",
       "2  100.84   0.666667   0.655492   0.935371  \n",
       "3  100.84   4.764706   4.684837   6.685148  \n",
       "4  100.84  22.564103  22.185871  31.658695  \n",
       "\n",
       "[5 rows x 56 columns]"
      ]
     },
     "execution_count": 27,
     "metadata": {},
     "output_type": "execute_result"
    }
   ],
   "source": [
    "# merged_df3.to_csv(\"data/final_merged.csv\")\n",
    "merged_df3.head()"
   ]
  },
  {
   "cell_type": "code",
   "execution_count": null,
   "metadata": {},
   "outputs": [],
   "source": [
    "# Copy the dataframe to avoid modifying the original\n",
    "df = merged_df3.copy()"
   ]
  },
  {
   "cell_type": "markdown",
   "metadata": {},
   "source": [
    "## Part 1: Exploratory Data Analysis (EDA) and Feature Selection\n",
    "\n",
    "### Step 1: Data Cleaning/Preparation\n",
    "\n",
    "Data cleaning is crucial for the accuracy of your analysis and predictive models.\n",
    "\n",
    "- Handle Missing Values: Remove or impute missing values.\n",
    "- Correct Data Types: Ensure all columns have appropriate data types.\n",
    "- Outliers Detection: Identify and handle outliers that may skew your analysis.\n",
    "\n",
    "\n",
    "1.1 Identify Missing Values\n"
   ]
  },
  {
   "cell_type": "code",
   "execution_count": null,
   "metadata": {},
   "outputs": [],
   "source": [
    "# Impute numerical columns with mean or median\n",
    "numerical_cols = df.select_dtypes(include=[np.number]).columns.tolist()\n",
    "df[numerical_cols] = df[numerical_cols].fillna(df[numerical_cols].mean())\n",
    "\n",
    "# Impute categorical columns with mode\n",
    "categorical_cols = df.select_dtypes(include=['object']).columns.tolist()\n",
    "df[categorical_cols] = df[categorical_cols].fillna(df[categorical_cols].mode().iloc[0])"
   ]
  },
  {
   "cell_type": "markdown",
   "metadata": {},
   "source": [
    "1.2 Correct Data Types"
   ]
  },
  {
   "cell_type": "code",
   "execution_count": null,
   "metadata": {},
   "outputs": [],
   "source": [
    "# Convert AGE and EXP to numeric\n",
    "df['AGE'] = pd.to_numeric(df['AGE'], errors='coerce')\n",
    "df['EXP'] = pd.to_numeric(df['EXP'], errors='coerce')\n",
    "\n",
    "# Convert WEIGHT to numeric\n",
    "df['WEIGHT'] = pd.to_numeric(df['WEIGHT'], errors='coerce')\n",
    "\n",
    "# Convert BIRTH_DATE to datetime\n",
    "df['BIRTH_DATE'] = pd.to_datetime(df['BIRTH_DATE'], errors='coerce')\n"
   ]
  },
  {
   "cell_type": "code",
   "execution_count": null,
   "metadata": {},
   "outputs": [],
   "source": [
    "def height_to_inches(height):\n",
    "    if isinstance(height, str):\n",
    "        try:\n",
    "            feet, inches = height.split('-')\n",
    "            return int(feet) * 12 + int(inches)\n",
    "        except ValueError:\n",
    "            return np.nan\n",
    "    return np.nan\n",
    "\n",
    "df['HEIGHT_INCHES'] = df['HEIGHT'].apply(height_to_inches)"
   ]
  },
  {
   "cell_type": "markdown",
   "metadata": {},
   "source": [
    "1.3 Handle Outliers"
   ]
  },
  {
   "cell_type": "code",
   "execution_count": null,
   "metadata": {},
   "outputs": [],
   "source": [
    "def find_outliers_iqr(data):\n",
    "    Q1 = data.quantile(0.25)\n",
    "    Q3 = data.quantile(0.75)\n",
    "    IQR = Q3 - Q1\n",
    "    return ((data < (Q1 - 1.5 * IQR)) | (data > (Q3 + 1.5 * IQR)))\n",
    "\n",
    "# Apply to numeric columns\n",
    "outlier_indices = {}\n",
    "for col in numerical_cols:\n",
    "    outliers = find_outliers_iqr(df[col])\n",
    "    outlier_indices[col] = df[outliers].index.tolist()\n"
   ]
  },
  {
   "cell_type": "code",
   "execution_count": null,
   "metadata": {},
   "outputs": [],
   "source": [
    "### Example: Cap Extreme Values\n",
    "for col in ['PTS', 'REB', 'AST', 'TOV', 'STL', 'BLK']:\n",
    "    df[col] = df[col].clip(lower=df[col].quantile(0.01), upper=df[col].quantile(0.99))\n"
   ]
  },
  {
   "cell_type": "markdown",
   "metadata": {},
   "source": [
    "### Part 2: Fixing Skewed Data\n"
   ]
  },
  {
   "cell_type": "code",
   "execution_count": null,
   "metadata": {},
   "outputs": [],
   "source": [
    "# Identify skewed features\n",
    "from scipy.stats import skew\n",
    "\n",
    "skewness = df[numerical_cols].apply(lambda x: skew(x.dropna()))\n",
    "skewed_cols = skewness[abs(skewness) > 0.5].index.tolist()\n",
    "\n"
   ]
  },
  {
   "cell_type": "code",
   "execution_count": null,
   "metadata": {},
   "outputs": [],
   "source": [
    "# Apply transformations\n",
    "from sklearn.preprocessing import PowerTransformer\n",
    "\n",
    "#pt = PowerTransformer(method='yeo-johnson')\n",
    "#df[skewed_cols] = pt.fit_transform(df[skewed_cols])"
   ]
  },
  {
   "cell_type": "code",
   "execution_count": null,
   "metadata": {},
   "outputs": [],
   "source": [
    "# Scaling numerical features\n",
    "from sklearn.preprocessing import StandardScaler\n",
    "\n",
    "#scaler = StandardScaler()\n",
    "#df[numerical_cols] = scaler.fit_transform(df[numerical_cols])\n"
   ]
  },
  {
   "cell_type": "code",
   "execution_count": null,
   "metadata": {},
   "outputs": [
    {
     "data": {
      "text/html": [
       "<div>\n",
       "<style scoped>\n",
       "    .dataframe tbody tr th:only-of-type {\n",
       "        vertical-align: middle;\n",
       "    }\n",
       "\n",
       "    .dataframe tbody tr th {\n",
       "        vertical-align: top;\n",
       "    }\n",
       "\n",
       "    .dataframe thead th {\n",
       "        text-align: right;\n",
       "    }\n",
       "</style>\n",
       "<table border=\"1\" class=\"dataframe\">\n",
       "  <thead>\n",
       "    <tr style=\"text-align: right;\">\n",
       "      <th></th>\n",
       "      <th>SEASON</th>\n",
       "      <th>PLAYER_ID</th>\n",
       "      <th>PLAYER</th>\n",
       "      <th>GP</th>\n",
       "      <th>W</th>\n",
       "      <th>L</th>\n",
       "      <th>MIN</th>\n",
       "      <th>FGM</th>\n",
       "      <th>FGA</th>\n",
       "      <th>FG3M</th>\n",
       "      <th>...</th>\n",
       "      <th>BLK_TEAM</th>\n",
       "      <th>PF_TEAM</th>\n",
       "      <th>PTS_TEAM</th>\n",
       "      <th>PLUS_MINUS_y</th>\n",
       "      <th>PPG</th>\n",
       "      <th>PACE</th>\n",
       "      <th>uPER</th>\n",
       "      <th>aPER</th>\n",
       "      <th>nPER</th>\n",
       "      <th>HEIGHT_INCHES</th>\n",
       "    </tr>\n",
       "  </thead>\n",
       "  <tbody>\n",
       "    <tr>\n",
       "      <th>0</th>\n",
       "      <td>2023</td>\n",
       "      <td>1630552</td>\n",
       "      <td>Jalen Johnson</td>\n",
       "      <td>56</td>\n",
       "      <td>27</td>\n",
       "      <td>29</td>\n",
       "      <td>1888.866667</td>\n",
       "      <td>359</td>\n",
       "      <td>702</td>\n",
       "      <td>71</td>\n",
       "      <td>...</td>\n",
       "      <td>369</td>\n",
       "      <td>1522</td>\n",
       "      <td>9703</td>\n",
       "      <td>-179.0</td>\n",
       "      <td>16.000000</td>\n",
       "      <td>100.84</td>\n",
       "      <td>21.732143</td>\n",
       "      <td>21.367857</td>\n",
       "      <td>30.491409</td>\n",
       "      <td>80</td>\n",
       "    </tr>\n",
       "    <tr>\n",
       "      <th>1</th>\n",
       "      <td>2023</td>\n",
       "      <td>1630235</td>\n",
       "      <td>Trent Forrest</td>\n",
       "      <td>38</td>\n",
       "      <td>18</td>\n",
       "      <td>20</td>\n",
       "      <td>413.761667</td>\n",
       "      <td>34</td>\n",
       "      <td>90</td>\n",
       "      <td>2</td>\n",
       "      <td>...</td>\n",
       "      <td>369</td>\n",
       "      <td>1522</td>\n",
       "      <td>9703</td>\n",
       "      <td>-179.0</td>\n",
       "      <td>2.184211</td>\n",
       "      <td>100.84</td>\n",
       "      <td>4.210526</td>\n",
       "      <td>4.139947</td>\n",
       "      <td>5.907603</td>\n",
       "      <td>76</td>\n",
       "    </tr>\n",
       "    <tr>\n",
       "      <th>2</th>\n",
       "      <td>2023</td>\n",
       "      <td>1641754</td>\n",
       "      <td>Seth Lundy</td>\n",
       "      <td>9</td>\n",
       "      <td>2</td>\n",
       "      <td>7</td>\n",
       "      <td>51.983333</td>\n",
       "      <td>4</td>\n",
       "      <td>17</td>\n",
       "      <td>3</td>\n",
       "      <td>...</td>\n",
       "      <td>369</td>\n",
       "      <td>1522</td>\n",
       "      <td>9703</td>\n",
       "      <td>-179.0</td>\n",
       "      <td>1.555556</td>\n",
       "      <td>100.84</td>\n",
       "      <td>0.666667</td>\n",
       "      <td>0.655492</td>\n",
       "      <td>0.935371</td>\n",
       "      <td>76</td>\n",
       "    </tr>\n",
       "    <tr>\n",
       "      <th>3</th>\n",
       "      <td>2023</td>\n",
       "      <td>1641723</td>\n",
       "      <td>Kobe Bufkin</td>\n",
       "      <td>17</td>\n",
       "      <td>8</td>\n",
       "      <td>9</td>\n",
       "      <td>196.003333</td>\n",
       "      <td>34</td>\n",
       "      <td>92</td>\n",
       "      <td>9</td>\n",
       "      <td>...</td>\n",
       "      <td>369</td>\n",
       "      <td>1522</td>\n",
       "      <td>9703</td>\n",
       "      <td>-179.0</td>\n",
       "      <td>4.764706</td>\n",
       "      <td>100.84</td>\n",
       "      <td>4.764706</td>\n",
       "      <td>4.684837</td>\n",
       "      <td>6.685148</td>\n",
       "      <td>77</td>\n",
       "    </tr>\n",
       "    <tr>\n",
       "      <th>4</th>\n",
       "      <td>2023</td>\n",
       "      <td>1627749</td>\n",
       "      <td>Dejounte Murray</td>\n",
       "      <td>78</td>\n",
       "      <td>34</td>\n",
       "      <td>44</td>\n",
       "      <td>2783.343333</td>\n",
       "      <td>672</td>\n",
       "      <td>1463</td>\n",
       "      <td>201</td>\n",
       "      <td>...</td>\n",
       "      <td>369</td>\n",
       "      <td>1522</td>\n",
       "      <td>9703</td>\n",
       "      <td>-179.0</td>\n",
       "      <td>22.474359</td>\n",
       "      <td>100.84</td>\n",
       "      <td>22.564103</td>\n",
       "      <td>22.185871</td>\n",
       "      <td>31.658695</td>\n",
       "      <td>77</td>\n",
       "    </tr>\n",
       "    <tr>\n",
       "      <th>...</th>\n",
       "      <td>...</td>\n",
       "      <td>...</td>\n",
       "      <td>...</td>\n",
       "      <td>...</td>\n",
       "      <td>...</td>\n",
       "      <td>...</td>\n",
       "      <td>...</td>\n",
       "      <td>...</td>\n",
       "      <td>...</td>\n",
       "      <td>...</td>\n",
       "      <td>...</td>\n",
       "      <td>...</td>\n",
       "      <td>...</td>\n",
       "      <td>...</td>\n",
       "      <td>...</td>\n",
       "      <td>...</td>\n",
       "      <td>...</td>\n",
       "      <td>...</td>\n",
       "      <td>...</td>\n",
       "      <td>...</td>\n",
       "      <td>...</td>\n",
       "    </tr>\n",
       "    <tr>\n",
       "      <th>517</th>\n",
       "      <td>2023</td>\n",
       "      <td>1630550</td>\n",
       "      <td>JT Thor</td>\n",
       "      <td>63</td>\n",
       "      <td>16</td>\n",
       "      <td>47</td>\n",
       "      <td>780.626667</td>\n",
       "      <td>80</td>\n",
       "      <td>183</td>\n",
       "      <td>28</td>\n",
       "      <td>...</td>\n",
       "      <td>371</td>\n",
       "      <td>1472</td>\n",
       "      <td>8740</td>\n",
       "      <td>-840.0</td>\n",
       "      <td>3.158730</td>\n",
       "      <td>97.81</td>\n",
       "      <td>4.523810</td>\n",
       "      <td>4.585770</td>\n",
       "      <td>6.543782</td>\n",
       "      <td>81</td>\n",
       "    </tr>\n",
       "    <tr>\n",
       "      <th>518</th>\n",
       "      <td>2023</td>\n",
       "      <td>203995</td>\n",
       "      <td>Vasilije Micić</td>\n",
       "      <td>30</td>\n",
       "      <td>23</td>\n",
       "      <td>7</td>\n",
       "      <td>360.985000</td>\n",
       "      <td>37</td>\n",
       "      <td>91</td>\n",
       "      <td>11</td>\n",
       "      <td>...</td>\n",
       "      <td>371</td>\n",
       "      <td>1472</td>\n",
       "      <td>8740</td>\n",
       "      <td>-840.0</td>\n",
       "      <td>3.300000</td>\n",
       "      <td>97.81</td>\n",
       "      <td>4.100000</td>\n",
       "      <td>4.156156</td>\n",
       "      <td>5.930733</td>\n",
       "      <td>75</td>\n",
       "    </tr>\n",
       "    <tr>\n",
       "      <th>519</th>\n",
       "      <td>2023</td>\n",
       "      <td>1630544</td>\n",
       "      <td>Tre Mann</td>\n",
       "      <td>28</td>\n",
       "      <td>10</td>\n",
       "      <td>18</td>\n",
       "      <td>867.660000</td>\n",
       "      <td>125</td>\n",
       "      <td>276</td>\n",
       "      <td>39</td>\n",
       "      <td>...</td>\n",
       "      <td>371</td>\n",
       "      <td>1472</td>\n",
       "      <td>8740</td>\n",
       "      <td>-840.0</td>\n",
       "      <td>11.892857</td>\n",
       "      <td>97.81</td>\n",
       "      <td>15.464286</td>\n",
       "      <td>15.676094</td>\n",
       "      <td>22.369403</td>\n",
       "      <td>75</td>\n",
       "    </tr>\n",
       "    <tr>\n",
       "      <th>520</th>\n",
       "      <td>2023</td>\n",
       "      <td>1641706</td>\n",
       "      <td>Brandon Miller</td>\n",
       "      <td>74</td>\n",
       "      <td>18</td>\n",
       "      <td>56</td>\n",
       "      <td>2382.963333</td>\n",
       "      <td>476</td>\n",
       "      <td>1083</td>\n",
       "      <td>184</td>\n",
       "      <td>...</td>\n",
       "      <td>371</td>\n",
       "      <td>1472</td>\n",
       "      <td>8740</td>\n",
       "      <td>-840.0</td>\n",
       "      <td>17.283784</td>\n",
       "      <td>97.81</td>\n",
       "      <td>14.972973</td>\n",
       "      <td>15.178052</td>\n",
       "      <td>21.658709</td>\n",
       "      <td>79</td>\n",
       "    </tr>\n",
       "    <tr>\n",
       "      <th>521</th>\n",
       "      <td>2023</td>\n",
       "      <td>203552</td>\n",
       "      <td>Seth Curry</td>\n",
       "      <td>36</td>\n",
       "      <td>21</td>\n",
       "      <td>15</td>\n",
       "      <td>456.885000</td>\n",
       "      <td>54</td>\n",
       "      <td>145</td>\n",
       "      <td>29</td>\n",
       "      <td>...</td>\n",
       "      <td>371</td>\n",
       "      <td>1472</td>\n",
       "      <td>8740</td>\n",
       "      <td>-840.0</td>\n",
       "      <td>4.277778</td>\n",
       "      <td>97.81</td>\n",
       "      <td>4.083333</td>\n",
       "      <td>4.139261</td>\n",
       "      <td>5.906624</td>\n",
       "      <td>73</td>\n",
       "    </tr>\n",
       "  </tbody>\n",
       "</table>\n",
       "<p>522 rows × 57 columns</p>\n",
       "</div>"
      ],
      "text/plain": [
       "    SEASON  PLAYER_ID           PLAYER  GP   W   L          MIN  FGM   FGA  \\\n",
       "0     2023    1630552    Jalen Johnson  56  27  29  1888.866667  359   702   \n",
       "1     2023    1630235    Trent Forrest  38  18  20   413.761667   34    90   \n",
       "2     2023    1641754       Seth Lundy   9   2   7    51.983333    4    17   \n",
       "3     2023    1641723      Kobe Bufkin  17   8   9   196.003333   34    92   \n",
       "4     2023    1627749  Dejounte Murray  78  34  44  2783.343333  672  1463   \n",
       "..     ...        ...              ...  ..  ..  ..          ...  ...   ...   \n",
       "517   2023    1630550          JT Thor  63  16  47   780.626667   80   183   \n",
       "518   2023     203995   Vasilije Micić  30  23   7   360.985000   37    91   \n",
       "519   2023    1630544         Tre Mann  28  10  18   867.660000  125   276   \n",
       "520   2023    1641706   Brandon Miller  74  18  56  2382.963333  476  1083   \n",
       "521   2023     203552       Seth Curry  36  21  15   456.885000   54   145   \n",
       "\n",
       "     FG3M  ...  BLK_TEAM  PF_TEAM  PTS_TEAM  PLUS_MINUS_y        PPG    PACE  \\\n",
       "0      71  ...       369     1522      9703        -179.0  16.000000  100.84   \n",
       "1       2  ...       369     1522      9703        -179.0   2.184211  100.84   \n",
       "2       3  ...       369     1522      9703        -179.0   1.555556  100.84   \n",
       "3       9  ...       369     1522      9703        -179.0   4.764706  100.84   \n",
       "4     201  ...       369     1522      9703        -179.0  22.474359  100.84   \n",
       "..    ...  ...       ...      ...       ...           ...        ...     ...   \n",
       "517    28  ...       371     1472      8740        -840.0   3.158730   97.81   \n",
       "518    11  ...       371     1472      8740        -840.0   3.300000   97.81   \n",
       "519    39  ...       371     1472      8740        -840.0  11.892857   97.81   \n",
       "520   184  ...       371     1472      8740        -840.0  17.283784   97.81   \n",
       "521    29  ...       371     1472      8740        -840.0   4.277778   97.81   \n",
       "\n",
       "          uPER       aPER       nPER  HEIGHT_INCHES  \n",
       "0    21.732143  21.367857  30.491409             80  \n",
       "1     4.210526   4.139947   5.907603             76  \n",
       "2     0.666667   0.655492   0.935371             76  \n",
       "3     4.764706   4.684837   6.685148             77  \n",
       "4    22.564103  22.185871  31.658695             77  \n",
       "..         ...        ...        ...            ...  \n",
       "517   4.523810   4.585770   6.543782             81  \n",
       "518   4.100000   4.156156   5.930733             75  \n",
       "519  15.464286  15.676094  22.369403             75  \n",
       "520  14.972973  15.178052  21.658709             79  \n",
       "521   4.083333   4.139261   5.906624             73  \n",
       "\n",
       "[522 rows x 57 columns]"
      ]
     },
     "execution_count": 111,
     "metadata": {},
     "output_type": "execute_result"
    }
   ],
   "source": [
    "df"
   ]
  },
  {
   "cell_type": "markdown",
   "metadata": {},
   "source": [
    "---------------------"
   ]
  },
  {
   "cell_type": "markdown",
   "metadata": {},
   "source": [
    "### 2. Define Success Metrics\n",
    "\n",
    "Define what \"NBA success\" means for your analysis. Common metrics include:\n",
    "\n",
    "Normalized PER (nPER)\n",
    "Points Per Game (PPG)\n",
    "Win Shares (WS)\n",
    "All-Star Selections\n",
    "Career Longevity\n",
    "For this analysis, we'll use nPER as the target variable.\n",
    "\n",
    "\n",
    "Certainly! Let's define \"NBA success\" by incorporating all the metrics you've listed:\n",
    "\n",
    "Normalized Player Efficiency Rating (nPER)\n",
    "Points Per Game (PPG)\n",
    "Estimated Wins Added (EWA) or Box Plus/Minus (BPM)\n",
    "All-Star Selections\n",
    "Career Longevity"
   ]
  },
  {
   "cell_type": "markdown",
   "metadata": {},
   "source": [
    "-----"
   ]
  },
  {
   "cell_type": "markdown",
   "metadata": {},
   "source": [
    "\n",
    "\n",
    "### 3. Correlation Analysis\n",
    "Calculate the correlation between features and the target variable to identify potential predictors.\n"
   ]
  },
  {
   "cell_type": "code",
   "execution_count": null,
   "metadata": {},
   "outputs": [
    {
     "data": {
      "image/png": "[encoded data removed]",
      "text/plain": [
       "<Figure size 1200x1000 with 2 Axes>"
      ]
     },
     "metadata": {},
     "output_type": "display_data"
    }
   ],
   "source": [
    "import seaborn as sns\n",
    "import matplotlib.pyplot as plt\n",
    "\n",
    "# Select numeric features\n",
    "numeric_features = df.select_dtypes(include=[np.number]).columns.tolist()\n",
    "\n",
    "# Compute correlation matrix\n",
    "corr_matrix = df[numeric_features].corr()\n",
    "\n",
    "# Plot heatmap of correlations with nPER\n",
    "plt.figure(figsize=(12, 10))\n",
    "sns.heatmap(corr_matrix[['PTS']].sort_values(by='PTS', ascending=False), annot=True, cmap='coolwarm')\n",
    "plt.title('Correlation of Features with nPER')\n",
    "plt.show()"
   ]
  },
  {
   "cell_type": "markdown",
   "metadata": {},
   "source": [
    "\n",
    "### 4. Feature Importance Using Mutual Information\n",
    "Mutual information captures non-linear relationships between variables.\n"
   ]
  },
  {
   "cell_type": "code",
   "execution_count": null,
   "metadata": {},
   "outputs": [
    {
     "data": {
      "image/png": "[encoded data removed]",
      "text/plain": [
       "<Figure size 1200x600 with 1 Axes>"
      ]
     },
     "metadata": {},
     "output_type": "display_data"
    }
   ],
   "source": [
    "\n",
    "from sklearn.feature_selection import mutual_info_regression\n",
    "\n",
    "# Define features and target\n",
    "X = df[numeric_features].drop('nPER', axis=1)\n",
    "y = df['nPER']\n",
    "\n",
    "# Compute mutual information\n",
    "mi_scores = mutual_info_regression(X.fillna(0), y, random_state=42)\n",
    "mi_scores = pd.Series(mi_scores, index=X.columns).sort_values(ascending=False)\n",
    "\n",
    "# Plot mutual information scores\n",
    "plt.figure(figsize=(12, 6))\n",
    "mi_scores.plot(kind='bar')\n",
    "plt.title('Mutual Information Scores')\n",
    "plt.ylabel('Score')\n",
    "plt.show()"
   ]
  },
  {
   "cell_type": "markdown",
   "metadata": {},
   "source": [
    "### 5. Select Important Features\n",
    "Based on correlation and mutual information, select the top features:\n",
    "\n",
    "- Statistical Performance: PTS, AST, REB, STL, BLK, TOV\n",
    "- Efficiency Metrics: FGM, FGA, FTM, FTA\n",
    "- Physical Attributes: HEIGHT, WEIGHT, AGE\n",
    "- Experience: EXP\n",
    "- College: Encode SCHOOL if including college statistics\n",
    "\n",
    "#### Part 2: Predictive Modeling\n",
    "\n",
    "1. Data Preparation\n",
    "Prepare your feature matrix X and target vector y.\n"
   ]
  },
  {
   "cell_type": "code",
   "execution_count": null,
   "metadata": {},
   "outputs": [
    {
     "data": {
      "text/plain": [
       "Index(['SEASON', 'PLAYER_ID', 'PLAYER', 'GP', 'W', 'L', 'MIN', 'FGM', 'FGA',\n",
       "       'FG3M', 'FG3A', 'FTM', 'FTA', 'OREB', 'DREB', 'REB', 'AST', 'TOV',\n",
       "       'STL', 'BLK', 'PF', 'PTS', 'PLUS_MINUS_x', 'NBA_FANTASY_PTS',\n",
       "       'POSITION', 'HEIGHT', 'WEIGHT', 'BIRTH_DATE', 'AGE', 'EXP', 'SCHOOL',\n",
       "       'HOW_ACQUIRED', 'TEAM_ID', 'TEAM_NAME', 'GP_TEAM', 'FGM_TEAM',\n",
       "       'FGA_TEAM', 'FG3M_TEAM', 'FG3A_TEAM', 'FTM_TEAM', 'FTA_TEAM',\n",
       "       'OREB_TEAM', 'DREB_TEAM', 'REB_TEAM', 'AST_TEAM', 'TOV_TEAM',\n",
       "       'STL_TEAM', 'BLK_TEAM', 'PF_TEAM', 'PTS_TEAM', 'PLUS_MINUS_y', 'PPG',\n",
       "       'PACE', 'uPER', 'aPER', 'nPER', 'HEIGHT_INCHES'],\n",
       "      dtype='object')"
      ]
     },
     "execution_count": 114,
     "metadata": {},
     "output_type": "execute_result"
    }
   ],
   "source": [
    "df.columns"
   ]
  },
  {
   "cell_type": "code",
   "execution_count": null,
   "metadata": {},
   "outputs": [],
   "source": [
    "\n",
    "# Selected features\n",
    "selected_features = ['PTS', 'AST', 'REB', 'STL', 'BLK', 'TOV', 'FGM', 'FGA', 'FTM', 'FTA', 'AGE', 'EXP', 'HEIGHT_INCHES', 'WEIGHT']\n",
    "\n",
    "X = df[selected_features]\n",
    "y = df['nPER']\n",
    "\n",
    "# Handle missing values\n",
    "X = X.fillna(0)"
   ]
  },
  {
   "cell_type": "code",
   "execution_count": null,
   "metadata": {},
   "outputs": [],
   "source": [
    "encoded_EXP = []\n",
    "for i in X['EXP']:\n",
    "    if i == 'R':\n",
    "        exp_level = 1\n",
    "    else:\n",
    "        exp_level = i\n",
    "    encoded_EXP.append(exp_level)\n",
    "\n",
    "X['EXP'] = encoded_EXP"
   ]
  },
  {
   "cell_type": "markdown",
   "metadata": {},
   "source": [
    "2. Encode Categorical Variables\n",
    "If you have categorical variables like POSITION or SCHOOL, encode them."
   ]
  },
  {
   "cell_type": "code",
   "execution_count": null,
   "metadata": {},
   "outputs": [],
   "source": [
    "# Example: Encode 'POSITION'\n",
    "#X = pd.concat([X, pd.get_dummies(merged_df3['POSITION'], prefix='POS')], axis=1)"
   ]
  },
  {
   "cell_type": "markdown",
   "metadata": {},
   "source": [
    "3. Split the Data\n",
    "Split your data into training and testing sets.\n",
    "\n"
   ]
  },
  {
   "cell_type": "code",
   "execution_count": null,
   "metadata": {},
   "outputs": [],
   "source": [
    "\n",
    "from sklearn.model_selection import train_test_split\n",
    "\n",
    "X_train, X_test, y_train, y_test = train_test_split(X, y, test_size=0.2, random_state=42)"
   ]
  },
  {
   "cell_type": "code",
   "execution_count": null,
   "metadata": {},
   "outputs": [
    {
     "data": {
      "text/html": [
       "<div>\n",
       "<style scoped>\n",
       "    .dataframe tbody tr th:only-of-type {\n",
       "        vertical-align: middle;\n",
       "    }\n",
       "\n",
       "    .dataframe tbody tr th {\n",
       "        vertical-align: top;\n",
       "    }\n",
       "\n",
       "    .dataframe thead th {\n",
       "        text-align: right;\n",
       "    }\n",
       "</style>\n",
       "<table border=\"1\" class=\"dataframe\">\n",
       "  <thead>\n",
       "    <tr style=\"text-align: right;\">\n",
       "      <th></th>\n",
       "      <th>PTS</th>\n",
       "      <th>AST</th>\n",
       "      <th>REB</th>\n",
       "      <th>STL</th>\n",
       "      <th>BLK</th>\n",
       "      <th>TOV</th>\n",
       "      <th>FGM</th>\n",
       "      <th>FGA</th>\n",
       "      <th>FTM</th>\n",
       "      <th>FTA</th>\n",
       "      <th>AGE</th>\n",
       "      <th>EXP</th>\n",
       "      <th>HEIGHT_INCHES</th>\n",
       "      <th>WEIGHT</th>\n",
       "    </tr>\n",
       "  </thead>\n",
       "  <tbody>\n",
       "    <tr>\n",
       "      <th>0</th>\n",
       "      <td>896.0</td>\n",
       "      <td>203</td>\n",
       "      <td>488.0</td>\n",
       "      <td>67</td>\n",
       "      <td>47.0</td>\n",
       "      <td>101.0</td>\n",
       "      <td>359</td>\n",
       "      <td>702</td>\n",
       "      <td>107</td>\n",
       "      <td>147</td>\n",
       "      <td>22.0</td>\n",
       "      <td>2.0</td>\n",
       "      <td>80</td>\n",
       "      <td>219</td>\n",
       "    </tr>\n",
       "    <tr>\n",
       "      <th>1</th>\n",
       "      <td>83.0</td>\n",
       "      <td>92</td>\n",
       "      <td>51.0</td>\n",
       "      <td>11</td>\n",
       "      <td>3.0</td>\n",
       "      <td>20.0</td>\n",
       "      <td>34</td>\n",
       "      <td>90</td>\n",
       "      <td>13</td>\n",
       "      <td>17</td>\n",
       "      <td>26.0</td>\n",
       "      <td>3.0</td>\n",
       "      <td>76</td>\n",
       "      <td>210</td>\n",
       "    </tr>\n",
       "    <tr>\n",
       "      <th>2</th>\n",
       "      <td>14.0</td>\n",
       "      <td>0</td>\n",
       "      <td>7.0</td>\n",
       "      <td>0</td>\n",
       "      <td>0.0</td>\n",
       "      <td>1.0</td>\n",
       "      <td>4</td>\n",
       "      <td>17</td>\n",
       "      <td>3</td>\n",
       "      <td>4</td>\n",
       "      <td>24.0</td>\n",
       "      <td>0.0</td>\n",
       "      <td>76</td>\n",
       "      <td>220</td>\n",
       "    </tr>\n",
       "    <tr>\n",
       "      <th>3</th>\n",
       "      <td>81.0</td>\n",
       "      <td>27</td>\n",
       "      <td>33.0</td>\n",
       "      <td>7</td>\n",
       "      <td>5.0</td>\n",
       "      <td>10.0</td>\n",
       "      <td>34</td>\n",
       "      <td>92</td>\n",
       "      <td>4</td>\n",
       "      <td>8</td>\n",
       "      <td>20.0</td>\n",
       "      <td>0.0</td>\n",
       "      <td>77</td>\n",
       "      <td>195</td>\n",
       "    </tr>\n",
       "    <tr>\n",
       "      <th>4</th>\n",
       "      <td>1753.0</td>\n",
       "      <td>502</td>\n",
       "      <td>416.0</td>\n",
       "      <td>111</td>\n",
       "      <td>24.0</td>\n",
       "      <td>201.0</td>\n",
       "      <td>672</td>\n",
       "      <td>1463</td>\n",
       "      <td>208</td>\n",
       "      <td>262</td>\n",
       "      <td>27.0</td>\n",
       "      <td>6.0</td>\n",
       "      <td>77</td>\n",
       "      <td>180</td>\n",
       "    </tr>\n",
       "    <tr>\n",
       "      <th>...</th>\n",
       "      <td>...</td>\n",
       "      <td>...</td>\n",
       "      <td>...</td>\n",
       "      <td>...</td>\n",
       "      <td>...</td>\n",
       "      <td>...</td>\n",
       "      <td>...</td>\n",
       "      <td>...</td>\n",
       "      <td>...</td>\n",
       "      <td>...</td>\n",
       "      <td>...</td>\n",
       "      <td>...</td>\n",
       "      <td>...</td>\n",
       "      <td>...</td>\n",
       "    </tr>\n",
       "    <tr>\n",
       "      <th>517</th>\n",
       "      <td>199.0</td>\n",
       "      <td>29</td>\n",
       "      <td>146.0</td>\n",
       "      <td>11</td>\n",
       "      <td>27.0</td>\n",
       "      <td>15.0</td>\n",
       "      <td>80</td>\n",
       "      <td>183</td>\n",
       "      <td>11</td>\n",
       "      <td>20</td>\n",
       "      <td>21.0</td>\n",
       "      <td>2.0</td>\n",
       "      <td>81</td>\n",
       "      <td>203</td>\n",
       "    </tr>\n",
       "    <tr>\n",
       "      <th>518</th>\n",
       "      <td>99.0</td>\n",
       "      <td>76</td>\n",
       "      <td>24.0</td>\n",
       "      <td>9</td>\n",
       "      <td>3.0</td>\n",
       "      <td>29.0</td>\n",
       "      <td>37</td>\n",
       "      <td>91</td>\n",
       "      <td>14</td>\n",
       "      <td>19</td>\n",
       "      <td>30.0</td>\n",
       "      <td>0.0</td>\n",
       "      <td>75</td>\n",
       "      <td>188</td>\n",
       "    </tr>\n",
       "    <tr>\n",
       "      <th>519</th>\n",
       "      <td>333.0</td>\n",
       "      <td>145</td>\n",
       "      <td>125.0</td>\n",
       "      <td>48</td>\n",
       "      <td>3.0</td>\n",
       "      <td>56.0</td>\n",
       "      <td>125</td>\n",
       "      <td>276</td>\n",
       "      <td>44</td>\n",
       "      <td>58</td>\n",
       "      <td>23.0</td>\n",
       "      <td>2.0</td>\n",
       "      <td>75</td>\n",
       "      <td>178</td>\n",
       "    </tr>\n",
       "    <tr>\n",
       "      <th>520</th>\n",
       "      <td>1279.0</td>\n",
       "      <td>175</td>\n",
       "      <td>315.0</td>\n",
       "      <td>66</td>\n",
       "      <td>42.0</td>\n",
       "      <td>132.0</td>\n",
       "      <td>476</td>\n",
       "      <td>1083</td>\n",
       "      <td>143</td>\n",
       "      <td>173</td>\n",
       "      <td>21.0</td>\n",
       "      <td>0.0</td>\n",
       "      <td>79</td>\n",
       "      <td>200</td>\n",
       "    </tr>\n",
       "    <tr>\n",
       "      <th>521</th>\n",
       "      <td>154.0</td>\n",
       "      <td>30</td>\n",
       "      <td>52.0</td>\n",
       "      <td>17</td>\n",
       "      <td>3.0</td>\n",
       "      <td>16.0</td>\n",
       "      <td>54</td>\n",
       "      <td>145</td>\n",
       "      <td>17</td>\n",
       "      <td>19</td>\n",
       "      <td>33.0</td>\n",
       "      <td>9.0</td>\n",
       "      <td>73</td>\n",
       "      <td>185</td>\n",
       "    </tr>\n",
       "  </tbody>\n",
       "</table>\n",
       "<p>522 rows × 14 columns</p>\n",
       "</div>"
      ],
      "text/plain": [
       "        PTS  AST    REB  STL   BLK    TOV  FGM   FGA  FTM  FTA   AGE  EXP  \\\n",
       "0     896.0  203  488.0   67  47.0  101.0  359   702  107  147  22.0  2.0   \n",
       "1      83.0   92   51.0   11   3.0   20.0   34    90   13   17  26.0  3.0   \n",
       "2      14.0    0    7.0    0   0.0    1.0    4    17    3    4  24.0  0.0   \n",
       "3      81.0   27   33.0    7   5.0   10.0   34    92    4    8  20.0  0.0   \n",
       "4    1753.0  502  416.0  111  24.0  201.0  672  1463  208  262  27.0  6.0   \n",
       "..      ...  ...    ...  ...   ...    ...  ...   ...  ...  ...   ...  ...   \n",
       "517   199.0   29  146.0   11  27.0   15.0   80   183   11   20  21.0  2.0   \n",
       "518    99.0   76   24.0    9   3.0   29.0   37    91   14   19  30.0  0.0   \n",
       "519   333.0  145  125.0   48   3.0   56.0  125   276   44   58  23.0  2.0   \n",
       "520  1279.0  175  315.0   66  42.0  132.0  476  1083  143  173  21.0  0.0   \n",
       "521   154.0   30   52.0   17   3.0   16.0   54   145   17   19  33.0  9.0   \n",
       "\n",
       "     HEIGHT_INCHES  WEIGHT  \n",
       "0               80     219  \n",
       "1               76     210  \n",
       "2               76     220  \n",
       "3               77     195  \n",
       "4               77     180  \n",
       "..             ...     ...  \n",
       "517             81     203  \n",
       "518             75     188  \n",
       "519             75     178  \n",
       "520             79     200  \n",
       "521             73     185  \n",
       "\n",
       "[522 rows x 14 columns]"
      ]
     },
     "execution_count": 118,
     "metadata": {},
     "output_type": "execute_result"
    }
   ],
   "source": [
    "X"
   ]
  },
  {
   "cell_type": "markdown",
   "metadata": {},
   "source": [
    "#### Regression Models\n",
    "\n",
    "4. Linear Regression\n",
    "Implement a Linear Regression model.\n"
   ]
  },
  {
   "cell_type": "code",
   "execution_count": null,
   "metadata": {},
   "outputs": [
    {
     "name": "stdout",
     "output_type": "stream",
     "text": [
      "Linear Regression RMSE: 4.43\n",
      "Linear Regression MSE: 19.66\n",
      "Linear Regression R² Score: 0.78\n"
     ]
    }
   ],
   "source": [
    "from sklearn.linear_model import LinearRegression\n",
    "from sklearn.metrics import root_mean_squared_error, r2_score, mean_squared_error\n",
    "\n",
    "# Initialize and fit the model\n",
    "lr_model = LinearRegression()\n",
    "lr_model.fit(X_train, y_train)\n",
    "\n",
    "# Predict on test data\n",
    "y_pred = lr_model.predict(X_test)\n",
    "\n",
    "# Evaluate the model\n",
    "rmse = root_mean_squared_error(y_test, y_pred)\n",
    "r2 = r2_score(y_test, y_pred)\n",
    "mse = mean_squared_error(y_test, y_pred)\n",
    "\n",
    "\n",
    "print(f'Linear Regression RMSE: {rmse:.2f}')\n",
    "print(f'Linear Regression MSE: {mse:.2f}')\n",
    "print(f'Linear Regression R² Score: {r2:.2f}')"
   ]
  },
  {
   "cell_type": "markdown",
   "metadata": {},
   "source": [
    "\n",
    "\n",
    "\n",
    "\n",
    "\n",
    "5. Regularized Regression\n",
    "Use Ridge and Lasso Regression to handle multicollinearity.\n",
    "\n",
    "python\n",
    "Copy code\n",
    "from sklearn.linear_model import Ridge, Lasso\n",
    "\n",
    "# Ridge Regression\n",
    "ridge_model = Ridge(alpha=1.0)\n",
    "ridge_model.fit(X_train, y_train)\n",
    "y_pred_ridge = ridge_model.predict(X_test)\n",
    "mse_ridge = mean_squared_error(y_test, y_pred_ridge)\n",
    "print(f'Ridge Regression MSE: {mse_ridge:.2f}')\n",
    "\n",
    "# Lasso Regression\n",
    "lasso_model = Lasso(alpha=0.1)\n",
    "lasso_model.fit(X_train, y_train)\n",
    "y_pred_lasso = lasso_model.predict(X_test)\n",
    "mse_lasso = mean_squared_error(y_test, y_pred_lasso)\n",
    "print(f'Lasso Regression MSE: {mse_lasso:.2f}')\n",
    "Classification Models"
   ]
  },
  {
   "cell_type": "code",
   "execution_count": null,
   "metadata": {},
   "outputs": [],
   "source": []
  }
 ],
 "metadata": {
  "kernelspec": {
   "display_name": "base",
   "language": "python",
   "name": "python3"
  },
  "language_info": {
   "codemirror_mode": {
    "name": "ipython",
    "version": 3
   },
   "file_extension": ".py",
   "mimetype": "text/x-python",
   "name": "python",
   "nbconvert_exporter": "python",
   "pygments_lexer": "ipython3",
   "version": "3.12.4"
  }
 },
 "nbformat": 4,
 "nbformat_minor": 2
}
